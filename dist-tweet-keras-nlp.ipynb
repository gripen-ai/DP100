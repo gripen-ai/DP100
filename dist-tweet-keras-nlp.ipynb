{
 "cells": [
  {
   "cell_type": "code",
   "execution_count": 1,
   "id": "8677772b",
   "metadata": {
    "_cell_guid": "b1076dfc-b9ad-4769-8c92-a6c4dae69d19",
    "_uuid": "8f2839f25d086af736a60e9eeb907d3b93b6e0e5",
    "execution": {
     "iopub.execute_input": "2024-03-14T17:16:55.975794Z",
     "iopub.status.busy": "2024-03-14T17:16:55.974840Z",
     "iopub.status.idle": "2024-03-14T17:16:56.812769Z",
     "shell.execute_reply": "2024-03-14T17:16:56.810838Z"
    },
    "papermill": {
     "duration": 0.858642,
     "end_time": "2024-03-14T17:16:56.816058",
     "exception": false,
     "start_time": "2024-03-14T17:16:55.957416",
     "status": "completed"
    },
    "tags": []
   },
   "outputs": [
    {
     "name": "stdout",
     "output_type": "stream",
     "text": [
      "/kaggle/input/nlp-getting-started/sample_submission.csv\n",
      "/kaggle/input/nlp-getting-started/train.csv\n",
      "/kaggle/input/nlp-getting-started/test.csv\n"
     ]
    }
   ],
   "source": [
    "# This Python 3 environment comes with many helpful analytics libraries installed\n",
    "# It is defined by the kaggle/python Docker image: https://github.com/kaggle/docker-python\n",
    "# For example, here's several helpful packages to load\n",
    "\n",
    "import numpy as np # linear algebra\n",
    "import pandas as pd # data processing, CSV file I/O (e.g. pd.read_csv)\n",
    "\n",
    "# Input data files are available in the read-only \"../input/\" directory\n",
    "# For example, running this (by clicking run or pressing Shift+Enter) will list all files under the input directory\n",
    "\n",
    "import os\n",
    "for dirname, _, filenames in os.walk('/kaggle/input'):\n",
    "    for filename in filenames:\n",
    "        print(os.path.join(dirname, filename))\n",
    "\n",
    "# You can write up to 20GB to the current directory (/kaggle/working/) that gets preserved as output when you create a version using \"Save & Run All\" \n",
    "# You can also write temporary files to /kaggle/temp/, but they won't be saved outside of the current session"
   ]
  },
  {
   "cell_type": "code",
   "execution_count": 2,
   "id": "aa54b419",
   "metadata": {
    "execution": {
     "iopub.execute_input": "2024-03-14T17:16:56.856338Z",
     "iopub.status.busy": "2024-03-14T17:16:56.855786Z",
     "iopub.status.idle": "2024-03-14T17:16:56.950381Z",
     "shell.execute_reply": "2024-03-14T17:16:56.949296Z"
    },
    "papermill": {
     "duration": 0.116718,
     "end_time": "2024-03-14T17:16:56.953031",
     "exception": false,
     "start_time": "2024-03-14T17:16:56.836313",
     "status": "completed"
    },
    "tags": []
   },
   "outputs": [
    {
     "name": "stdout",
     "output_type": "stream",
     "text": [
      "(7613, 5) (3263, 4)\n"
     ]
    }
   ],
   "source": [
    "import pandas as pd \n",
    "\n",
    "train_df = pd.read_csv(\"/kaggle/input/nlp-getting-started/train.csv\")\n",
    "test_df = pd.read_csv(\"/kaggle/input/nlp-getting-started/test.csv\")\n",
    "print(train_df.shape,\n",
    "test_df.shape)\n"
   ]
  },
  {
   "cell_type": "code",
   "execution_count": 3,
   "id": "eb939519",
   "metadata": {
    "execution": {
     "iopub.execute_input": "2024-03-14T17:16:56.986070Z",
     "iopub.status.busy": "2024-03-14T17:16:56.985728Z",
     "iopub.status.idle": "2024-03-14T17:16:57.005966Z",
     "shell.execute_reply": "2024-03-14T17:16:57.004895Z"
    },
    "papermill": {
     "duration": 0.038481,
     "end_time": "2024-03-14T17:16:57.008315",
     "exception": false,
     "start_time": "2024-03-14T17:16:56.969834",
     "status": "completed"
    },
    "tags": []
   },
   "outputs": [
    {
     "data": {
      "text/html": [
       "<div>\n",
       "<style scoped>\n",
       "    .dataframe tbody tr th:only-of-type {\n",
       "        vertical-align: middle;\n",
       "    }\n",
       "\n",
       "    .dataframe tbody tr th {\n",
       "        vertical-align: top;\n",
       "    }\n",
       "\n",
       "    .dataframe thead th {\n",
       "        text-align: right;\n",
       "    }\n",
       "</style>\n",
       "<table border=\"1\" class=\"dataframe\">\n",
       "  <thead>\n",
       "    <tr style=\"text-align: right;\">\n",
       "      <th></th>\n",
       "      <th>id</th>\n",
       "      <th>keyword</th>\n",
       "      <th>location</th>\n",
       "      <th>text</th>\n",
       "      <th>target</th>\n",
       "    </tr>\n",
       "  </thead>\n",
       "  <tbody>\n",
       "    <tr>\n",
       "      <th>0</th>\n",
       "      <td>1</td>\n",
       "      <td>NaN</td>\n",
       "      <td>NaN</td>\n",
       "      <td>Our Deeds are the Reason of this #earthquake M...</td>\n",
       "      <td>1</td>\n",
       "    </tr>\n",
       "    <tr>\n",
       "      <th>1</th>\n",
       "      <td>4</td>\n",
       "      <td>NaN</td>\n",
       "      <td>NaN</td>\n",
       "      <td>Forest fire near La Ronge Sask. Canada</td>\n",
       "      <td>1</td>\n",
       "    </tr>\n",
       "    <tr>\n",
       "      <th>2</th>\n",
       "      <td>5</td>\n",
       "      <td>NaN</td>\n",
       "      <td>NaN</td>\n",
       "      <td>All residents asked to 'shelter in place' are ...</td>\n",
       "      <td>1</td>\n",
       "    </tr>\n",
       "    <tr>\n",
       "      <th>3</th>\n",
       "      <td>6</td>\n",
       "      <td>NaN</td>\n",
       "      <td>NaN</td>\n",
       "      <td>13,000 people receive #wildfires evacuation or...</td>\n",
       "      <td>1</td>\n",
       "    </tr>\n",
       "    <tr>\n",
       "      <th>4</th>\n",
       "      <td>7</td>\n",
       "      <td>NaN</td>\n",
       "      <td>NaN</td>\n",
       "      <td>Just got sent this photo from Ruby #Alaska as ...</td>\n",
       "      <td>1</td>\n",
       "    </tr>\n",
       "    <tr>\n",
       "      <th>5</th>\n",
       "      <td>8</td>\n",
       "      <td>NaN</td>\n",
       "      <td>NaN</td>\n",
       "      <td>#RockyFire Update =&gt; California Hwy. 20 closed...</td>\n",
       "      <td>1</td>\n",
       "    </tr>\n",
       "    <tr>\n",
       "      <th>6</th>\n",
       "      <td>10</td>\n",
       "      <td>NaN</td>\n",
       "      <td>NaN</td>\n",
       "      <td>#flood #disaster Heavy rain causes flash flood...</td>\n",
       "      <td>1</td>\n",
       "    </tr>\n",
       "    <tr>\n",
       "      <th>7</th>\n",
       "      <td>13</td>\n",
       "      <td>NaN</td>\n",
       "      <td>NaN</td>\n",
       "      <td>I'm on top of the hill and I can see a fire in...</td>\n",
       "      <td>1</td>\n",
       "    </tr>\n",
       "    <tr>\n",
       "      <th>8</th>\n",
       "      <td>14</td>\n",
       "      <td>NaN</td>\n",
       "      <td>NaN</td>\n",
       "      <td>There's an emergency evacuation happening now ...</td>\n",
       "      <td>1</td>\n",
       "    </tr>\n",
       "    <tr>\n",
       "      <th>9</th>\n",
       "      <td>15</td>\n",
       "      <td>NaN</td>\n",
       "      <td>NaN</td>\n",
       "      <td>I'm afraid that the tornado is coming to our a...</td>\n",
       "      <td>1</td>\n",
       "    </tr>\n",
       "    <tr>\n",
       "      <th>10</th>\n",
       "      <td>16</td>\n",
       "      <td>NaN</td>\n",
       "      <td>NaN</td>\n",
       "      <td>Three people died from the heat wave so far</td>\n",
       "      <td>1</td>\n",
       "    </tr>\n",
       "    <tr>\n",
       "      <th>11</th>\n",
       "      <td>17</td>\n",
       "      <td>NaN</td>\n",
       "      <td>NaN</td>\n",
       "      <td>Haha South Tampa is getting flooded hah- WAIT ...</td>\n",
       "      <td>1</td>\n",
       "    </tr>\n",
       "    <tr>\n",
       "      <th>12</th>\n",
       "      <td>18</td>\n",
       "      <td>NaN</td>\n",
       "      <td>NaN</td>\n",
       "      <td>#raining #flooding #Florida #TampaBay #Tampa 1...</td>\n",
       "      <td>1</td>\n",
       "    </tr>\n",
       "    <tr>\n",
       "      <th>13</th>\n",
       "      <td>19</td>\n",
       "      <td>NaN</td>\n",
       "      <td>NaN</td>\n",
       "      <td>#Flood in Bago Myanmar #We arrived Bago</td>\n",
       "      <td>1</td>\n",
       "    </tr>\n",
       "    <tr>\n",
       "      <th>14</th>\n",
       "      <td>20</td>\n",
       "      <td>NaN</td>\n",
       "      <td>NaN</td>\n",
       "      <td>Damage to school bus on 80 in multi car crash ...</td>\n",
       "      <td>1</td>\n",
       "    </tr>\n",
       "    <tr>\n",
       "      <th>15</th>\n",
       "      <td>23</td>\n",
       "      <td>NaN</td>\n",
       "      <td>NaN</td>\n",
       "      <td>What's up man?</td>\n",
       "      <td>0</td>\n",
       "    </tr>\n",
       "    <tr>\n",
       "      <th>16</th>\n",
       "      <td>24</td>\n",
       "      <td>NaN</td>\n",
       "      <td>NaN</td>\n",
       "      <td>I love fruits</td>\n",
       "      <td>0</td>\n",
       "    </tr>\n",
       "    <tr>\n",
       "      <th>17</th>\n",
       "      <td>25</td>\n",
       "      <td>NaN</td>\n",
       "      <td>NaN</td>\n",
       "      <td>Summer is lovely</td>\n",
       "      <td>0</td>\n",
       "    </tr>\n",
       "    <tr>\n",
       "      <th>18</th>\n",
       "      <td>26</td>\n",
       "      <td>NaN</td>\n",
       "      <td>NaN</td>\n",
       "      <td>My car is so fast</td>\n",
       "      <td>0</td>\n",
       "    </tr>\n",
       "    <tr>\n",
       "      <th>19</th>\n",
       "      <td>28</td>\n",
       "      <td>NaN</td>\n",
       "      <td>NaN</td>\n",
       "      <td>What a goooooooaaaaaal!!!!!!</td>\n",
       "      <td>0</td>\n",
       "    </tr>\n",
       "  </tbody>\n",
       "</table>\n",
       "</div>"
      ],
      "text/plain": [
       "    id keyword location                                               text  \\\n",
       "0    1     NaN      NaN  Our Deeds are the Reason of this #earthquake M...   \n",
       "1    4     NaN      NaN             Forest fire near La Ronge Sask. Canada   \n",
       "2    5     NaN      NaN  All residents asked to 'shelter in place' are ...   \n",
       "3    6     NaN      NaN  13,000 people receive #wildfires evacuation or...   \n",
       "4    7     NaN      NaN  Just got sent this photo from Ruby #Alaska as ...   \n",
       "5    8     NaN      NaN  #RockyFire Update => California Hwy. 20 closed...   \n",
       "6   10     NaN      NaN  #flood #disaster Heavy rain causes flash flood...   \n",
       "7   13     NaN      NaN  I'm on top of the hill and I can see a fire in...   \n",
       "8   14     NaN      NaN  There's an emergency evacuation happening now ...   \n",
       "9   15     NaN      NaN  I'm afraid that the tornado is coming to our a...   \n",
       "10  16     NaN      NaN        Three people died from the heat wave so far   \n",
       "11  17     NaN      NaN  Haha South Tampa is getting flooded hah- WAIT ...   \n",
       "12  18     NaN      NaN  #raining #flooding #Florida #TampaBay #Tampa 1...   \n",
       "13  19     NaN      NaN            #Flood in Bago Myanmar #We arrived Bago   \n",
       "14  20     NaN      NaN  Damage to school bus on 80 in multi car crash ...   \n",
       "15  23     NaN      NaN                                     What's up man?   \n",
       "16  24     NaN      NaN                                      I love fruits   \n",
       "17  25     NaN      NaN                                   Summer is lovely   \n",
       "18  26     NaN      NaN                                  My car is so fast   \n",
       "19  28     NaN      NaN                       What a goooooooaaaaaal!!!!!!   \n",
       "\n",
       "    target  \n",
       "0        1  \n",
       "1        1  \n",
       "2        1  \n",
       "3        1  \n",
       "4        1  \n",
       "5        1  \n",
       "6        1  \n",
       "7        1  \n",
       "8        1  \n",
       "9        1  \n",
       "10       1  \n",
       "11       1  \n",
       "12       1  \n",
       "13       1  \n",
       "14       1  \n",
       "15       0  \n",
       "16       0  \n",
       "17       0  \n",
       "18       0  \n",
       "19       0  "
      ]
     },
     "execution_count": 3,
     "metadata": {},
     "output_type": "execute_result"
    }
   ],
   "source": [
    "train_df.head(20)"
   ]
  },
  {
   "cell_type": "code",
   "execution_count": 4,
   "id": "ee42cf8c",
   "metadata": {
    "execution": {
     "iopub.execute_input": "2024-03-14T17:16:57.042827Z",
     "iopub.status.busy": "2024-03-14T17:16:57.042153Z",
     "iopub.status.idle": "2024-03-14T17:16:57.071997Z",
     "shell.execute_reply": "2024-03-14T17:16:57.070640Z"
    },
    "papermill": {
     "duration": 0.05138,
     "end_time": "2024-03-14T17:16:57.075970",
     "exception": false,
     "start_time": "2024-03-14T17:16:57.024590",
     "status": "completed"
    },
    "tags": []
   },
   "outputs": [
    {
     "name": "stdout",
     "output_type": "stream",
     "text": [
      "<class 'pandas.core.frame.DataFrame'>\n",
      "RangeIndex: 7613 entries, 0 to 7612\n",
      "Data columns (total 5 columns):\n",
      " #   Column    Non-Null Count  Dtype \n",
      "---  ------    --------------  ----- \n",
      " 0   id        7613 non-null   int64 \n",
      " 1   keyword   7552 non-null   object\n",
      " 2   location  5080 non-null   object\n",
      " 3   text      7613 non-null   object\n",
      " 4   target    7613 non-null   int64 \n",
      "dtypes: int64(2), object(3)\n",
      "memory usage: 297.5+ KB\n"
     ]
    }
   ],
   "source": [
    "train_df.info()"
   ]
  },
  {
   "cell_type": "code",
   "execution_count": 5,
   "id": "10243782",
   "metadata": {
    "execution": {
     "iopub.execute_input": "2024-03-14T17:16:57.112933Z",
     "iopub.status.busy": "2024-03-14T17:16:57.112152Z",
     "iopub.status.idle": "2024-03-14T17:16:57.128525Z",
     "shell.execute_reply": "2024-03-14T17:16:57.127409Z"
    },
    "papermill": {
     "duration": 0.035768,
     "end_time": "2024-03-14T17:16:57.131045",
     "exception": false,
     "start_time": "2024-03-14T17:16:57.095277",
     "status": "completed"
    },
    "tags": []
   },
   "outputs": [
    {
     "data": {
      "text/html": [
       "<div>\n",
       "<style scoped>\n",
       "    .dataframe tbody tr th:only-of-type {\n",
       "        vertical-align: middle;\n",
       "    }\n",
       "\n",
       "    .dataframe tbody tr th {\n",
       "        vertical-align: top;\n",
       "    }\n",
       "\n",
       "    .dataframe thead th {\n",
       "        text-align: right;\n",
       "    }\n",
       "</style>\n",
       "<table border=\"1\" class=\"dataframe\">\n",
       "  <thead>\n",
       "    <tr style=\"text-align: right;\">\n",
       "      <th></th>\n",
       "      <th>id</th>\n",
       "      <th>keyword</th>\n",
       "      <th>location</th>\n",
       "      <th>text</th>\n",
       "    </tr>\n",
       "  </thead>\n",
       "  <tbody>\n",
       "    <tr>\n",
       "      <th>0</th>\n",
       "      <td>0</td>\n",
       "      <td>NaN</td>\n",
       "      <td>NaN</td>\n",
       "      <td>Just happened a terrible car crash</td>\n",
       "    </tr>\n",
       "    <tr>\n",
       "      <th>1</th>\n",
       "      <td>2</td>\n",
       "      <td>NaN</td>\n",
       "      <td>NaN</td>\n",
       "      <td>Heard about #earthquake is different cities, s...</td>\n",
       "    </tr>\n",
       "    <tr>\n",
       "      <th>2</th>\n",
       "      <td>3</td>\n",
       "      <td>NaN</td>\n",
       "      <td>NaN</td>\n",
       "      <td>there is a forest fire at spot pond, geese are...</td>\n",
       "    </tr>\n",
       "    <tr>\n",
       "      <th>3</th>\n",
       "      <td>9</td>\n",
       "      <td>NaN</td>\n",
       "      <td>NaN</td>\n",
       "      <td>Apocalypse lighting. #Spokane #wildfires</td>\n",
       "    </tr>\n",
       "    <tr>\n",
       "      <th>4</th>\n",
       "      <td>11</td>\n",
       "      <td>NaN</td>\n",
       "      <td>NaN</td>\n",
       "      <td>Typhoon Soudelor kills 28 in China and Taiwan</td>\n",
       "    </tr>\n",
       "    <tr>\n",
       "      <th>5</th>\n",
       "      <td>12</td>\n",
       "      <td>NaN</td>\n",
       "      <td>NaN</td>\n",
       "      <td>We're shaking...It's an earthquake</td>\n",
       "    </tr>\n",
       "    <tr>\n",
       "      <th>6</th>\n",
       "      <td>21</td>\n",
       "      <td>NaN</td>\n",
       "      <td>NaN</td>\n",
       "      <td>They'd probably still show more life than Arse...</td>\n",
       "    </tr>\n",
       "    <tr>\n",
       "      <th>7</th>\n",
       "      <td>22</td>\n",
       "      <td>NaN</td>\n",
       "      <td>NaN</td>\n",
       "      <td>Hey! How are you?</td>\n",
       "    </tr>\n",
       "    <tr>\n",
       "      <th>8</th>\n",
       "      <td>27</td>\n",
       "      <td>NaN</td>\n",
       "      <td>NaN</td>\n",
       "      <td>What a nice hat?</td>\n",
       "    </tr>\n",
       "    <tr>\n",
       "      <th>9</th>\n",
       "      <td>29</td>\n",
       "      <td>NaN</td>\n",
       "      <td>NaN</td>\n",
       "      <td>Fuck off!</td>\n",
       "    </tr>\n",
       "    <tr>\n",
       "      <th>10</th>\n",
       "      <td>30</td>\n",
       "      <td>NaN</td>\n",
       "      <td>NaN</td>\n",
       "      <td>No I don't like cold!</td>\n",
       "    </tr>\n",
       "    <tr>\n",
       "      <th>11</th>\n",
       "      <td>35</td>\n",
       "      <td>NaN</td>\n",
       "      <td>NaN</td>\n",
       "      <td>NOOOOOOOOO! Don't do that!</td>\n",
       "    </tr>\n",
       "    <tr>\n",
       "      <th>12</th>\n",
       "      <td>42</td>\n",
       "      <td>NaN</td>\n",
       "      <td>NaN</td>\n",
       "      <td>No don't tell me that!</td>\n",
       "    </tr>\n",
       "    <tr>\n",
       "      <th>13</th>\n",
       "      <td>43</td>\n",
       "      <td>NaN</td>\n",
       "      <td>NaN</td>\n",
       "      <td>What if?!</td>\n",
       "    </tr>\n",
       "    <tr>\n",
       "      <th>14</th>\n",
       "      <td>45</td>\n",
       "      <td>NaN</td>\n",
       "      <td>NaN</td>\n",
       "      <td>Awesome!</td>\n",
       "    </tr>\n",
       "    <tr>\n",
       "      <th>15</th>\n",
       "      <td>46</td>\n",
       "      <td>ablaze</td>\n",
       "      <td>London</td>\n",
       "      <td>Birmingham Wholesale Market is ablaze BBC News...</td>\n",
       "    </tr>\n",
       "    <tr>\n",
       "      <th>16</th>\n",
       "      <td>47</td>\n",
       "      <td>ablaze</td>\n",
       "      <td>Niall's place | SAF 12 SQUAD |</td>\n",
       "      <td>@sunkxssedharry will you wear shorts for race ...</td>\n",
       "    </tr>\n",
       "    <tr>\n",
       "      <th>17</th>\n",
       "      <td>51</td>\n",
       "      <td>ablaze</td>\n",
       "      <td>NIGERIA</td>\n",
       "      <td>#PreviouslyOnDoyinTv: Toke MakinwaÛªs marriag...</td>\n",
       "    </tr>\n",
       "    <tr>\n",
       "      <th>18</th>\n",
       "      <td>58</td>\n",
       "      <td>ablaze</td>\n",
       "      <td>Live On Webcam</td>\n",
       "      <td>Check these out: http://t.co/rOI2NSmEJJ http:/...</td>\n",
       "    </tr>\n",
       "    <tr>\n",
       "      <th>19</th>\n",
       "      <td>60</td>\n",
       "      <td>ablaze</td>\n",
       "      <td>Los Angeles, Califnordia</td>\n",
       "      <td>PSA: IÛªm splitting my personalities.\\n\\n?? t...</td>\n",
       "    </tr>\n",
       "  </tbody>\n",
       "</table>\n",
       "</div>"
      ],
      "text/plain": [
       "    id keyword                        location  \\\n",
       "0    0     NaN                             NaN   \n",
       "1    2     NaN                             NaN   \n",
       "2    3     NaN                             NaN   \n",
       "3    9     NaN                             NaN   \n",
       "4   11     NaN                             NaN   \n",
       "5   12     NaN                             NaN   \n",
       "6   21     NaN                             NaN   \n",
       "7   22     NaN                             NaN   \n",
       "8   27     NaN                             NaN   \n",
       "9   29     NaN                             NaN   \n",
       "10  30     NaN                             NaN   \n",
       "11  35     NaN                             NaN   \n",
       "12  42     NaN                             NaN   \n",
       "13  43     NaN                             NaN   \n",
       "14  45     NaN                             NaN   \n",
       "15  46  ablaze                          London   \n",
       "16  47  ablaze  Niall's place | SAF 12 SQUAD |   \n",
       "17  51  ablaze                         NIGERIA   \n",
       "18  58  ablaze                  Live On Webcam   \n",
       "19  60  ablaze        Los Angeles, Califnordia   \n",
       "\n",
       "                                                 text  \n",
       "0                  Just happened a terrible car crash  \n",
       "1   Heard about #earthquake is different cities, s...  \n",
       "2   there is a forest fire at spot pond, geese are...  \n",
       "3            Apocalypse lighting. #Spokane #wildfires  \n",
       "4       Typhoon Soudelor kills 28 in China and Taiwan  \n",
       "5                  We're shaking...It's an earthquake  \n",
       "6   They'd probably still show more life than Arse...  \n",
       "7                                   Hey! How are you?  \n",
       "8                                    What a nice hat?  \n",
       "9                                           Fuck off!  \n",
       "10                              No I don't like cold!  \n",
       "11                         NOOOOOOOOO! Don't do that!  \n",
       "12                             No don't tell me that!  \n",
       "13                                          What if?!  \n",
       "14                                           Awesome!  \n",
       "15  Birmingham Wholesale Market is ablaze BBC News...  \n",
       "16  @sunkxssedharry will you wear shorts for race ...  \n",
       "17  #PreviouslyOnDoyinTv: Toke MakinwaÛªs marriag...  \n",
       "18  Check these out: http://t.co/rOI2NSmEJJ http:/...  \n",
       "19  PSA: IÛªm splitting my personalities.\\n\\n?? t...  "
      ]
     },
     "execution_count": 5,
     "metadata": {},
     "output_type": "execute_result"
    }
   ],
   "source": [
    "test_df.head(20)"
   ]
  },
  {
   "cell_type": "code",
   "execution_count": 6,
   "id": "0827b5b4",
   "metadata": {
    "execution": {
     "iopub.execute_input": "2024-03-14T17:16:57.170368Z",
     "iopub.status.busy": "2024-03-14T17:16:57.169995Z",
     "iopub.status.idle": "2024-03-14T17:16:57.176064Z",
     "shell.execute_reply": "2024-03-14T17:16:57.175142Z"
    },
    "papermill": {
     "duration": 0.027514,
     "end_time": "2024-03-14T17:16:57.178187",
     "exception": false,
     "start_time": "2024-03-14T17:16:57.150673",
     "status": "completed"
    },
    "tags": []
   },
   "outputs": [],
   "source": [
    "def transformDataset(df):\n",
    "    df['X'] = df['text'] + ': ' + df['keyword'].fillna(\"\")\n",
    "    if 'target' in df.columns:\n",
    "        df['y'] = df['target']\n",
    "    else:\n",
    "        df['y'] = 0\n",
    "        \n",
    "    X=df['X']\n",
    "    y=df['y']\n",
    "    return X,y\n",
    "    \n",
    "    "
   ]
  },
  {
   "cell_type": "code",
   "execution_count": 7,
   "id": "23c1ae98",
   "metadata": {
    "execution": {
     "iopub.execute_input": "2024-03-14T17:16:57.212522Z",
     "iopub.status.busy": "2024-03-14T17:16:57.211604Z",
     "iopub.status.idle": "2024-03-14T17:16:57.226904Z",
     "shell.execute_reply": "2024-03-14T17:16:57.225916Z"
    },
    "papermill": {
     "duration": 0.034828,
     "end_time": "2024-03-14T17:16:57.229150",
     "exception": false,
     "start_time": "2024-03-14T17:16:57.194322",
     "status": "completed"
    },
    "tags": []
   },
   "outputs": [
    {
     "data": {
      "text/plain": [
       "0       Our Deeds are the Reason of this #earthquake M...\n",
       "1                Forest fire near La Ronge Sask. Canada: \n",
       "2       All residents asked to 'shelter in place' are ...\n",
       "3       13,000 people receive #wildfires evacuation or...\n",
       "4       Just got sent this photo from Ruby #Alaska as ...\n",
       "                              ...                        \n",
       "7608    Two giant cranes holding a bridge collapse int...\n",
       "7609    @aria_ahrary @TheTawniest The out of control w...\n",
       "7610    M1.94 [01:04 UTC]?5km S of Volcano Hawaii. htt...\n",
       "7611    Police investigating after an e-bike collided ...\n",
       "7612    The Latest: More Homes Razed by Northern Calif...\n",
       "Name: X, Length: 7613, dtype: object"
      ]
     },
     "execution_count": 7,
     "metadata": {},
     "output_type": "execute_result"
    }
   ],
   "source": [
    "train_X,train_y = transformDataset(train_df)\n",
    "train_X"
   ]
  },
  {
   "cell_type": "code",
   "execution_count": 8,
   "id": "e87827f3",
   "metadata": {
    "execution": {
     "iopub.execute_input": "2024-03-14T17:16:57.263867Z",
     "iopub.status.busy": "2024-03-14T17:16:57.262899Z",
     "iopub.status.idle": "2024-03-14T17:16:57.274427Z",
     "shell.execute_reply": "2024-03-14T17:16:57.273478Z"
    },
    "papermill": {
     "duration": 0.030757,
     "end_time": "2024-03-14T17:16:57.276485",
     "exception": false,
     "start_time": "2024-03-14T17:16:57.245728",
     "status": "completed"
    },
    "tags": []
   },
   "outputs": [
    {
     "data": {
      "text/plain": [
       "0                    Just happened a terrible car crash: \n",
       "1       Heard about #earthquake is different cities, s...\n",
       "2       there is a forest fire at spot pond, geese are...\n",
       "3              Apocalypse lighting. #Spokane #wildfires: \n",
       "4         Typhoon Soudelor kills 28 in China and Taiwan: \n",
       "                              ...                        \n",
       "3258    EARTHQUAKE SAFETY LOS ANGELES ÛÒ SAFETY FASTE...\n",
       "3259    Storm in RI worse than last hurricane. My city...\n",
       "3260    Green Line derailment in Chicago http://t.co/U...\n",
       "3261    MEG issues Hazardous Weather Outlook (HWO) htt...\n",
       "3262    #CityofCalgary has activated its Municipal Eme...\n",
       "Name: X, Length: 3263, dtype: object"
      ]
     },
     "execution_count": 8,
     "metadata": {},
     "output_type": "execute_result"
    }
   ],
   "source": [
    "test_X,test_y = transformDataset(test_df)\n",
    "test_X\n"
   ]
  },
  {
   "cell_type": "code",
   "execution_count": 9,
   "id": "830c8480",
   "metadata": {
    "execution": {
     "iopub.execute_input": "2024-03-14T17:16:57.311358Z",
     "iopub.status.busy": "2024-03-14T17:16:57.310932Z",
     "iopub.status.idle": "2024-03-14T17:16:57.323815Z",
     "shell.execute_reply": "2024-03-14T17:16:57.322745Z"
    },
    "papermill": {
     "duration": 0.033293,
     "end_time": "2024-03-14T17:16:57.326378",
     "exception": false,
     "start_time": "2024-03-14T17:16:57.293085",
     "status": "completed"
    },
    "tags": []
   },
   "outputs": [
    {
     "name": "stdout",
     "output_type": "stream",
     "text": [
      "<class 'pandas.core.frame.DataFrame'>\n",
      "RangeIndex: 3263 entries, 0 to 3262\n",
      "Data columns (total 6 columns):\n",
      " #   Column    Non-Null Count  Dtype \n",
      "---  ------    --------------  ----- \n",
      " 0   id        3263 non-null   int64 \n",
      " 1   keyword   3237 non-null   object\n",
      " 2   location  2158 non-null   object\n",
      " 3   text      3263 non-null   object\n",
      " 4   X         3263 non-null   object\n",
      " 5   y         3263 non-null   int64 \n",
      "dtypes: int64(2), object(4)\n",
      "memory usage: 153.1+ KB\n"
     ]
    }
   ],
   "source": [
    "test_df.info()"
   ]
  },
  {
   "cell_type": "code",
   "execution_count": 10,
   "id": "775457c8",
   "metadata": {
    "execution": {
     "iopub.execute_input": "2024-03-14T17:16:57.369536Z",
     "iopub.status.busy": "2024-03-14T17:16:57.368751Z",
     "iopub.status.idle": "2024-03-14T17:17:17.362143Z",
     "shell.execute_reply": "2024-03-14T17:17:17.361088Z"
    },
    "papermill": {
     "duration": 20.014406,
     "end_time": "2024-03-14T17:17:17.364663",
     "exception": false,
     "start_time": "2024-03-14T17:16:57.350257",
     "status": "completed"
    },
    "tags": []
   },
   "outputs": [
    {
     "name": "stdout",
     "output_type": "stream",
     "text": [
      "\u001b[31mERROR: pip's dependency resolver does not currently take into account all the packages that are installed. This behaviour is the source of the following dependency conflicts.\r\n",
      "tensorflow-decision-forests 1.8.1 requires wurlitzer, which is not installed.\u001b[0m\u001b[31m\r\n",
      "\u001b[0m"
     ]
    }
   ],
   "source": [
    "!pip install -q keras_nlp==0.6.3 keras-core==0.1.7"
   ]
  },
  {
   "cell_type": "code",
   "execution_count": 11,
   "id": "02298b61",
   "metadata": {
    "execution": {
     "iopub.execute_input": "2024-03-14T17:17:17.400079Z",
     "iopub.status.busy": "2024-03-14T17:17:17.399302Z",
     "iopub.status.idle": "2024-03-14T17:17:35.558712Z",
     "shell.execute_reply": "2024-03-14T17:17:35.557643Z"
    },
    "papermill": {
     "duration": 18.179409,
     "end_time": "2024-03-14T17:17:35.560995",
     "exception": false,
     "start_time": "2024-03-14T17:17:17.381586",
     "status": "completed"
    },
    "tags": []
   },
   "outputs": [
    {
     "name": "stderr",
     "output_type": "stream",
     "text": [
      "2024-03-14 17:17:19.381077: E external/local_xla/xla/stream_executor/cuda/cuda_dnn.cc:9261] Unable to register cuDNN factory: Attempting to register factory for plugin cuDNN when one has already been registered\n",
      "2024-03-14 17:17:19.381184: E external/local_xla/xla/stream_executor/cuda/cuda_fft.cc:607] Unable to register cuFFT factory: Attempting to register factory for plugin cuFFT when one has already been registered\n",
      "2024-03-14 17:17:19.535683: E external/local_xla/xla/stream_executor/cuda/cuda_blas.cc:1515] Unable to register cuBLAS factory: Attempting to register factory for plugin cuBLAS when one has already been registered\n"
     ]
    },
    {
     "name": "stdout",
     "output_type": "stream",
     "text": [
      "Using JAX backend.\n"
     ]
    },
    {
     "name": "stderr",
     "output_type": "stream",
     "text": [
      "/tmp/ipykernel_26/1781136277.py:22: MatplotlibDeprecationWarning: The get_cmap function was deprecated in Matplotlib 3.7 and will be removed two minor releases later. Use ``matplotlib.colormaps[name]`` or ``matplotlib.colormaps.get_cmap(obj)`` instead.\n",
      "  cmap = mpl.cm.get_cmap('coolwarm')\n"
     ]
    }
   ],
   "source": [
    "import os\n",
    "os.environ[\"KERAS_BACKEND\"] = \"jax\"  # \"jax\" or \"tensorflow\" or \"torch\" \n",
    "# os.environ[\"WANDB_SILENT\"] = \"false\" # for wandb\n",
    "\n",
    "import keras_nlp\n",
    "import keras_core as keras\n",
    "import keras_core.backend as K\n",
    "\n",
    "\n",
    "import torch\n",
    "# import jax\n",
    "import tensorflow as tf\n",
    "# from tensorflow import keras\n",
    "# import tensorflow.keras.backend as K\n",
    "\n",
    "import numpy as np \n",
    "import pandas as pd\n",
    "\n",
    "import matplotlib.pyplot as plt\n",
    "import matplotlib as mpl\n",
    "\n",
    "cmap = mpl.cm.get_cmap('coolwarm')"
   ]
  },
  {
   "cell_type": "code",
   "execution_count": 12,
   "id": "30f04ae7",
   "metadata": {
    "execution": {
     "iopub.execute_input": "2024-03-14T17:17:35.596035Z",
     "iopub.status.busy": "2024-03-14T17:17:35.595197Z",
     "iopub.status.idle": "2024-03-14T17:17:35.602661Z",
     "shell.execute_reply": "2024-03-14T17:17:35.601684Z"
    },
    "papermill": {
     "duration": 0.027059,
     "end_time": "2024-03-14T17:17:35.604790",
     "exception": false,
     "start_time": "2024-03-14T17:17:35.577731",
     "status": "completed"
    },
    "tags": []
   },
   "outputs": [],
   "source": [
    "class CFG:\n",
    "    verbose = 0  # Verbosity\n",
    "    \n",
    "    wandb = True  # Weights & Biases logging\n",
    "    competition = 'llm-detect-ai-generated-text'  # Competition name\n",
    "    _wandb_kernel = 'awsaf49'  # WandB kernel\n",
    "    comment = 'DebertaV3-MaxSeq_200-ext_s-torch'  # Comment description\n",
    "    \n",
    "    preset = \"deberta_v3_base_en\"  # Name of pretrained models\n",
    "    sequence_length = 160  # Input sequence length\n",
    "    \n",
    "    device = 'GPU'  # Device\n",
    "    \n",
    "    seed = 42  # Random seed\n",
    "    \n",
    "    num_folds = 5  # Total folds\n",
    "    selected_folds = [0, 1]  # Folds to train on\n",
    "    \n",
    "    epochs = 3 # Training epochs\n",
    "    batch_size = 3  # Batch size\n",
    "    drop_remainder = True  # Drop incomplete batches\n",
    "    cache = True # Caches data after one iteration, use only with `TPU` to avoid OOM\n",
    "    \n",
    "    scheduler = 'cosine'  # Learning rate scheduler\n",
    "    \n",
    "#     class_names = [\"real\", \"fake\"]  # Class names [A, B, C, D, E]\n",
    "#     num_classes = len(class_names)  # Number of classes\n",
    "#     class_labels = list(range(num_classes))  # Class labels [0, 1, 2, 3, 4]\n",
    "#     label2name = dict(zip(class_labels, class_names))  # Label to class name mapping\n",
    "#     name2label = {v: k for k, v in label2name.items()}  # Class name to label mapping"
   ]
  },
  {
   "cell_type": "code",
   "execution_count": 13,
   "id": "dbcb9fad",
   "metadata": {
    "execution": {
     "iopub.execute_input": "2024-03-14T17:17:35.640746Z",
     "iopub.status.busy": "2024-03-14T17:17:35.639927Z",
     "iopub.status.idle": "2024-03-14T17:17:35.645257Z",
     "shell.execute_reply": "2024-03-14T17:17:35.644165Z"
    },
    "papermill": {
     "duration": 0.025562,
     "end_time": "2024-03-14T17:17:35.647314",
     "exception": false,
     "start_time": "2024-03-14T17:17:35.621752",
     "status": "completed"
    },
    "tags": []
   },
   "outputs": [],
   "source": [
    "keras.utils.set_random_seed(CFG.seed)"
   ]
  },
  {
   "cell_type": "code",
   "execution_count": 14,
   "id": "743aa28e",
   "metadata": {
    "execution": {
     "iopub.execute_input": "2024-03-14T17:17:35.682694Z",
     "iopub.status.busy": "2024-03-14T17:17:35.682107Z",
     "iopub.status.idle": "2024-03-14T17:17:35.692603Z",
     "shell.execute_reply": "2024-03-14T17:17:35.691618Z"
    },
    "papermill": {
     "duration": 0.030098,
     "end_time": "2024-03-14T17:17:35.694738",
     "exception": false,
     "start_time": "2024-03-14T17:17:35.664640",
     "status": "completed"
    },
    "tags": []
   },
   "outputs": [
    {
     "data": {
      "text/plain": [
       "y\n",
       "0    4342\n",
       "1    3271\n",
       "Name: count, dtype: int64"
      ]
     },
     "execution_count": 14,
     "metadata": {},
     "output_type": "execute_result"
    }
   ],
   "source": [
    "train_y.value_counts()"
   ]
  },
  {
   "cell_type": "code",
   "execution_count": 15,
   "id": "6752693c",
   "metadata": {
    "execution": {
     "iopub.execute_input": "2024-03-14T17:17:35.729994Z",
     "iopub.status.busy": "2024-03-14T17:17:35.729338Z",
     "iopub.status.idle": "2024-03-14T17:17:35.738070Z",
     "shell.execute_reply": "2024-03-14T17:17:35.736919Z"
    },
    "papermill": {
     "duration": 0.028686,
     "end_time": "2024-03-14T17:17:35.740228",
     "exception": false,
     "start_time": "2024-03-14T17:17:35.711542",
     "status": "completed"
    },
    "tags": []
   },
   "outputs": [],
   "source": [
    "def get_device():\n",
    "    \"Detect and intializes GPU/TPU automatically\"\n",
    "    try:\n",
    "        # detect and init the TPU\n",
    "        tpu = tf.distribute.cluster_resolver.TPUClusterResolver()\n",
    "\n",
    "        # instantiate a distribution strategy\n",
    "        tf.tpu.experimental.initialize_tpu_system(tpu)\n",
    "        strategy = tf.distribute.TPUStrategy(tpu)\n",
    "        print(f'> Running on TPU', tpu.master(), end=' | ')\n",
    "        print('Num of TPUs: ', strategy.num_replicas_in_sync)\n",
    "        device=CFG.device\n",
    "    except:\n",
    "        # If TPU is not available, detect GPUs\n",
    "        gpus = tf.config.list_logical_devices('GPU')\n",
    "        ngpu = len(gpus)\n",
    "         # Check number of GPUs\n",
    "        if ngpu:\n",
    "            # Set GPU strategy\n",
    "            strategy = tf.distribute.MirroredStrategy(gpus) # single-GPU or multi-GPU\n",
    "            # Print GPU details\n",
    "            print(\"> Running on GPU\", end=' | ')\n",
    "            print(\"Num of GPUs: \", ngpu)\n",
    "            device='GPU'\n",
    "        else:\n",
    "            # If no GPUs are available, use CPU\n",
    "            print(\"> Running on CPU\")\n",
    "            strategy = tf.distribute.get_strategy()\n",
    "            device='CPU'\n",
    "    return strategy, device"
   ]
  },
  {
   "cell_type": "code",
   "execution_count": 16,
   "id": "67f6d345",
   "metadata": {
    "execution": {
     "iopub.execute_input": "2024-03-14T17:17:35.775042Z",
     "iopub.status.busy": "2024-03-14T17:17:35.774395Z",
     "iopub.status.idle": "2024-03-14T17:17:36.022619Z",
     "shell.execute_reply": "2024-03-14T17:17:36.021312Z"
    },
    "papermill": {
     "duration": 0.268254,
     "end_time": "2024-03-14T17:17:36.025143",
     "exception": false,
     "start_time": "2024-03-14T17:17:35.756889",
     "status": "completed"
    },
    "tags": []
   },
   "outputs": [
    {
     "name": "stdout",
     "output_type": "stream",
     "text": [
      "> Running on GPU | Num of GPUs:  1\n"
     ]
    }
   ],
   "source": [
    "# Initialize GPU/TPU/TPU-VM\n",
    "strategy, CFG.device = get_device()\n",
    "CFG.replicas = strategy.num_replicas_in_sync"
   ]
  },
  {
   "cell_type": "code",
   "execution_count": 17,
   "id": "ad5e8b6f",
   "metadata": {
    "execution": {
     "iopub.execute_input": "2024-03-14T17:17:36.061248Z",
     "iopub.status.busy": "2024-03-14T17:17:36.060853Z",
     "iopub.status.idle": "2024-03-14T17:17:36.368657Z",
     "shell.execute_reply": "2024-03-14T17:17:36.367572Z"
    },
    "papermill": {
     "duration": 0.328787,
     "end_time": "2024-03-14T17:17:36.371087",
     "exception": false,
     "start_time": "2024-03-14T17:17:36.042300",
     "status": "completed"
    },
    "tags": []
   },
   "outputs": [
    {
     "data": {
      "image/png": "[encoded data removed]",
      "text/plain": [
       "<Figure size 800x400 with 1 Axes>"
      ]
     },
     "metadata": {},
     "output_type": "display_data"
    }
   ],
   "source": [
    "#df = pd.read_csv(f'{BASE_PATH}/train_essays.csv')  # Read CSV file into a DataFrame\n",
    "#df['label'] = df.generated.copy()\n",
    "#df['name'] = df.generated.map(CFG.label2name)  # Map answer labels using name-to-label mapping\n",
    "\n",
    "# Display information about the train data\n",
    "#print(\"# Train Data: {:,}\".format(len(df)))\n",
    "#print(\"# Sample:\")\n",
    "#display(df.head(2))\n",
    "\n",
    "# Show distribution of answers using a bar plot\n",
    "\n",
    "plt.figure(figsize=(8, 4))\n",
    "train_y.value_counts().plot.bar(color=[cmap(0.0), cmap(0.25), cmap(0.65), cmap(0.9), cmap(1.0)])\n",
    "plt.xlabel(\"Class\")\n",
    "plt.ylabel(\"Count\")\n",
    "plt.title(\"Class distribution for Train Data\")\n",
    "plt.show()"
   ]
  },
  {
   "cell_type": "code",
   "execution_count": 18,
   "id": "6d486622",
   "metadata": {
    "execution": {
     "iopub.execute_input": "2024-03-14T17:17:36.408848Z",
     "iopub.status.busy": "2024-03-14T17:17:36.408471Z",
     "iopub.status.idle": "2024-03-14T17:17:37.305223Z",
     "shell.execute_reply": "2024-03-14T17:17:37.304010Z"
    },
    "papermill": {
     "duration": 0.918655,
     "end_time": "2024-03-14T17:17:37.307894",
     "exception": false,
     "start_time": "2024-03-14T17:17:36.389239",
     "status": "completed"
    },
    "tags": []
   },
   "outputs": [
    {
     "name": "stdout",
     "output_type": "stream",
     "text": [
      "Downloading data from https://storage.googleapis.com/keras-nlp/models/deberta_v3_base_en/v1/vocab.spm\n",
      "\u001b[1m2464616/2464616\u001b[0m \u001b[32m━━━━━━━━━━━━━━━━━━━━\u001b[0m\u001b[37m\u001b[0m \u001b[1m0s\u001b[0m 0us/step       \n"
     ]
    }
   ],
   "source": [
    "preprocessor = keras_nlp.models.DebertaV3Preprocessor.from_preset(\n",
    "    preset=CFG.preset, # Name of the model\n",
    "    sequence_length=CFG.sequence_length, # Max sequence length, will be padded if shorter\n",
    ")"
   ]
  },
  {
   "cell_type": "code",
   "execution_count": 19,
   "id": "ad247c96",
   "metadata": {
    "execution": {
     "iopub.execute_input": "2024-03-14T17:17:37.346214Z",
     "iopub.status.busy": "2024-03-14T17:17:37.345802Z",
     "iopub.status.idle": "2024-03-14T17:17:37.351328Z",
     "shell.execute_reply": "2024-03-14T17:17:37.350309Z"
    },
    "papermill": {
     "duration": 0.027023,
     "end_time": "2024-03-14T17:17:37.353531",
     "exception": false,
     "start_time": "2024-03-14T17:17:37.326508",
     "status": "completed"
    },
    "tags": []
   },
   "outputs": [],
   "source": [
    "def preprocess_fn(text, label=None):\n",
    "    text = preprocessor(text)  # Preprocess text\n",
    "    return (text, label) if label is not None else text  # Return processed text and label if available"
   ]
  },
  {
   "cell_type": "code",
   "execution_count": 20,
   "id": "c3dd2a53",
   "metadata": {
    "execution": {
     "iopub.execute_input": "2024-03-14T17:17:37.390624Z",
     "iopub.status.busy": "2024-03-14T17:17:37.390305Z",
     "iopub.status.idle": "2024-03-14T17:17:37.398719Z",
     "shell.execute_reply": "2024-03-14T17:17:37.397803Z"
    },
    "papermill": {
     "duration": 0.029321,
     "end_time": "2024-03-14T17:17:37.400783",
     "exception": false,
     "start_time": "2024-03-14T17:17:37.371462",
     "status": "completed"
    },
    "tags": []
   },
   "outputs": [],
   "source": [
    "def get_datasets(fold):\n",
    "    train_df = df[df.fold!=fold].sample(frac=1)  # Get training fold data\n",
    "        \n",
    "    train_texts = train_df.X.tolist()  # Extract training texts\n",
    "    train_labels = train_df.y.tolist()  # Extract training labels\n",
    "    \n",
    "    # Build training dataset\n",
    "    train_ds = build_dataset(train_texts, train_labels,\n",
    "                             batch_size=CFG.batch_size*CFG.replicas, cache=CFG.cache,\n",
    "                             shuffle=True, drop_remainder=True, repeat=True)\n",
    "\n",
    "    valid_df = df[df.fold==fold].sample(frac=1)  # Get validation fold data\n",
    "    valid_texts = valid_df.X.tolist()  # Extract validation texts\n",
    "    valid_labels = valid_df.y.tolist()  # Extract validation labels\n",
    "    \n",
    "    # Build validation dataset\n",
    "    valid_ds = build_dataset(valid_texts, valid_labels,\n",
    "                             batch_size=min(CFG.batch_size*CFG.replicas, len(valid_df)), cache=CFG.cache,\n",
    "                             shuffle=False, drop_remainder=True, repeat=False)\n",
    "    \n",
    "    return (train_ds, train_df), (valid_ds, valid_df)  # Return datasets and dataframes"
   ]
  },
  {
   "cell_type": "code",
   "execution_count": 21,
   "id": "d98b633c",
   "metadata": {
    "execution": {
     "iopub.execute_input": "2024-03-14T17:17:37.439049Z",
     "iopub.status.busy": "2024-03-14T17:17:37.438663Z",
     "iopub.status.idle": "2024-03-14T17:17:51.053343Z",
     "shell.execute_reply": "2024-03-14T17:17:51.052270Z"
    },
    "papermill": {
     "duration": 13.6366,
     "end_time": "2024-03-14T17:17:51.055929",
     "exception": false,
     "start_time": "2024-03-14T17:17:37.419329",
     "status": "completed"
    },
    "tags": []
   },
   "outputs": [
    {
     "name": "stdout",
     "output_type": "stream",
     "text": [
      "Requirement already satisfied: wandb in /opt/conda/lib/python3.10/site-packages (0.16.3)\r\n",
      "Requirement already satisfied: Click!=8.0.0,>=7.1 in /opt/conda/lib/python3.10/site-packages (from wandb) (8.1.7)\r\n",
      "Requirement already satisfied: GitPython!=3.1.29,>=1.0.0 in /opt/conda/lib/python3.10/site-packages (from wandb) (3.1.41)\r\n",
      "Requirement already satisfied: requests<3,>=2.0.0 in /opt/conda/lib/python3.10/site-packages (from wandb) (2.31.0)\r\n",
      "Requirement already satisfied: psutil>=5.0.0 in /opt/conda/lib/python3.10/site-packages (from wandb) (5.9.3)\r\n",
      "Requirement already satisfied: sentry-sdk>=1.0.0 in /opt/conda/lib/python3.10/site-packages (from wandb) (1.40.5)\r\n",
      "Requirement already satisfied: docker-pycreds>=0.4.0 in /opt/conda/lib/python3.10/site-packages (from wandb) (0.4.0)\r\n",
      "Requirement already satisfied: PyYAML in /opt/conda/lib/python3.10/site-packages (from wandb) (6.0.1)\r\n",
      "Requirement already satisfied: setproctitle in /opt/conda/lib/python3.10/site-packages (from wandb) (1.3.3)\r\n",
      "Requirement already satisfied: setuptools in /opt/conda/lib/python3.10/site-packages (from wandb) (69.0.3)\r\n",
      "Requirement already satisfied: appdirs>=1.4.3 in /opt/conda/lib/python3.10/site-packages (from wandb) (1.4.4)\r\n",
      "Requirement already satisfied: protobuf!=4.21.0,<5,>=3.19.0 in /opt/conda/lib/python3.10/site-packages (from wandb) (3.20.3)\r\n",
      "Requirement already satisfied: six>=1.4.0 in /opt/conda/lib/python3.10/site-packages (from docker-pycreds>=0.4.0->wandb) (1.16.0)\r\n",
      "Requirement already satisfied: gitdb<5,>=4.0.1 in /opt/conda/lib/python3.10/site-packages (from GitPython!=3.1.29,>=1.0.0->wandb) (4.0.11)\r\n",
      "Requirement already satisfied: charset-normalizer<4,>=2 in /opt/conda/lib/python3.10/site-packages (from requests<3,>=2.0.0->wandb) (3.3.2)\r\n",
      "Requirement already satisfied: idna<4,>=2.5 in /opt/conda/lib/python3.10/site-packages (from requests<3,>=2.0.0->wandb) (3.6)\r\n",
      "Requirement already satisfied: urllib3<3,>=1.21.1 in /opt/conda/lib/python3.10/site-packages (from requests<3,>=2.0.0->wandb) (1.26.18)\r\n",
      "Requirement already satisfied: certifi>=2017.4.17 in /opt/conda/lib/python3.10/site-packages (from requests<3,>=2.0.0->wandb) (2024.2.2)\r\n",
      "Requirement already satisfied: smmap<6,>=3.0.1 in /opt/conda/lib/python3.10/site-packages (from gitdb<5,>=4.0.1->GitPython!=3.1.29,>=1.0.0->wandb) (5.0.1)\r\n"
     ]
    }
   ],
   "source": [
    "!pip install wandb"
   ]
  },
  {
   "cell_type": "code",
   "execution_count": 22,
   "id": "14440d5a",
   "metadata": {
    "execution": {
     "iopub.execute_input": "2024-03-14T17:17:51.092875Z",
     "iopub.status.busy": "2024-03-14T17:17:51.092535Z",
     "iopub.status.idle": "2024-03-14T17:17:53.455060Z",
     "shell.execute_reply": "2024-03-14T17:17:53.454111Z"
    },
    "papermill": {
     "duration": 2.38385,
     "end_time": "2024-03-14T17:17:53.457598",
     "exception": false,
     "start_time": "2024-03-14T17:17:51.073748",
     "status": "completed"
    },
    "tags": []
   },
   "outputs": [
    {
     "name": "stderr",
     "output_type": "stream",
     "text": [
      "\u001b[34m\u001b[1mwandb\u001b[0m: Appending key for api.wandb.ai to your netrc file: /root/.netrc\n"
     ]
    }
   ],
   "source": [
    "import wandb  # Import wandb library for experiment tracking\n",
    "\n",
    "try:\n",
    "    from kaggle_secrets import UserSecretsClient  # Import UserSecretsClient\n",
    "    user_secrets = UserSecretsClient()  # Create secrets client instance\n",
    "    api_key = user_secrets.get_secret(\"WANDB\")  # Get API key from Kaggle secrets\n",
    "    wandb.login(key=api_key)  # Login to wandb with the API key\n",
    "    anonymous = None  # Set anonymous mode to None\n",
    "except:\n",
    "    anonymous = 'must'  # Set anonymous mode to 'must'\n",
    "    wandb.login(anonymous=anonymous, relogin=True)  # Login to wandb anonymously and relogin if needed"
   ]
  },
  {
   "cell_type": "code",
   "execution_count": 23,
   "id": "f7f791fb",
   "metadata": {
    "execution": {
     "iopub.execute_input": "2024-03-14T17:17:53.544382Z",
     "iopub.status.busy": "2024-03-14T17:17:53.543977Z",
     "iopub.status.idle": "2024-03-14T17:17:53.552863Z",
     "shell.execute_reply": "2024-03-14T17:17:53.551749Z"
    },
    "papermill": {
     "duration": 0.031588,
     "end_time": "2024-03-14T17:17:53.555128",
     "exception": false,
     "start_time": "2024-03-14T17:17:53.523540",
     "status": "completed"
    },
    "tags": []
   },
   "outputs": [],
   "source": [
    "def wandb_init(fold):\n",
    "    config = {k: v for k, v in dict(vars(CFG)).items() if '__' not in k}  # Create config dictionary\n",
    "    config.update({\"fold\": int(fold)})  # Add fold to config\n",
    "    run = wandb.init(project=\"dist-tweet-classification\",\n",
    "                     name=f\"fold-{fold}|max_seq-{CFG.sequence_length}|model-{CFG.preset}\",\n",
    "                     config=config,\n",
    "                     group=CFG.comment,\n",
    "                     save_code=True)\n",
    "    return run\n",
    "\n",
    "# Log best result for error analysis\n",
    "def log_wandb():\n",
    "    wandb.log({'best_auc': best_auc, 'best_loss': best_loss, 'best_epoch': best_epoch})\n",
    "\n",
    "# Fetch W&B callbacks\n",
    "def get_wb_callbacks(fold):\n",
    "    wb_metr = wandb.keras.WandbMetricsLogger()\n",
    "    return [wb_metr]  # Return WandB callbacks"
   ]
  },
  {
   "cell_type": "code",
   "execution_count": 24,
   "id": "4aa9daee",
   "metadata": {
    "execution": {
     "iopub.execute_input": "2024-03-14T17:17:53.594616Z",
     "iopub.status.busy": "2024-03-14T17:17:53.594270Z",
     "iopub.status.idle": "2024-03-14T17:17:53.605870Z",
     "shell.execute_reply": "2024-03-14T17:17:53.604845Z"
    },
    "papermill": {
     "duration": 0.033771,
     "end_time": "2024-03-14T17:17:53.607937",
     "exception": false,
     "start_time": "2024-03-14T17:17:53.574166",
     "status": "completed"
    },
    "tags": []
   },
   "outputs": [],
   "source": [
    "import math\n",
    "\n",
    "def get_lr_callback(batch_size=8, mode='cos', epochs=10, plot=False):\n",
    "    lr_start, lr_max, lr_min = 0.6e-6, 0.5e-6 * batch_size, 0.3e-6\n",
    "    lr_ramp_ep, lr_sus_ep, lr_decay = 1, 0, 0.75\n",
    "\n",
    "    def lrfn(epoch):  # Learning rate update function\n",
    "        if epoch < lr_ramp_ep: lr = (lr_max - lr_start) / lr_ramp_ep * epoch + lr_start\n",
    "        elif epoch < lr_ramp_ep + lr_sus_ep: lr = lr_max\n",
    "        elif mode == 'exp': lr = (lr_max - lr_min) * lr_decay**(epoch - lr_ramp_ep - lr_sus_ep) + lr_min\n",
    "        elif mode == 'step': lr = lr_max * lr_decay**((epoch - lr_ramp_ep - lr_sus_ep) // 2)\n",
    "        elif mode == 'cos':\n",
    "            decay_total_epochs, decay_epoch_index = epochs - lr_ramp_ep - lr_sus_ep + 3, epoch - lr_ramp_ep - lr_sus_ep\n",
    "            phase = math.pi * decay_epoch_index / decay_total_epochs\n",
    "            lr = (lr_max - lr_min) * 0.5 * (1 + math.cos(phase)) + lr_min\n",
    "        return lr\n",
    "\n",
    "    if plot:  # Plot lr curve if plot is True\n",
    "        plt.figure(figsize=(10, 5))\n",
    "        plt.plot(np.arange(epochs), [lrfn(epoch) for epoch in np.arange(epochs)], marker='o')\n",
    "        plt.xlabel('epoch'); plt.ylabel('lr')\n",
    "        plt.title('LR Scheduler')\n",
    "        plt.show()\n",
    "\n",
    "    return keras.callbacks.LearningRateScheduler(lrfn, verbose=False)  # Create lr callback"
   ]
  },
  {
   "cell_type": "code",
   "execution_count": 25,
   "id": "5e7f62a9",
   "metadata": {
    "execution": {
     "iopub.execute_input": "2024-03-14T17:17:53.648921Z",
     "iopub.status.busy": "2024-03-14T17:17:53.647842Z",
     "iopub.status.idle": "2024-03-14T17:17:53.945593Z",
     "shell.execute_reply": "2024-03-14T17:17:53.944596Z"
    },
    "papermill": {
     "duration": 0.320473,
     "end_time": "2024-03-14T17:17:53.947901",
     "exception": false,
     "start_time": "2024-03-14T17:17:53.627428",
     "status": "completed"
    },
    "tags": []
   },
   "outputs": [
    {
     "data": {
      "image/png": "[encoded data removed]",
      "text/plain": [
       "<Figure size 1000x500 with 1 Axes>"
      ]
     },
     "metadata": {},
     "output_type": "display_data"
    }
   ],
   "source": [
    "_=get_lr_callback(CFG.batch_size*CFG.replicas, plot=True)"
   ]
  },
  {
   "cell_type": "code",
   "execution_count": 26,
   "id": "1fa68b6f",
   "metadata": {
    "execution": {
     "iopub.execute_input": "2024-03-14T17:17:53.987166Z",
     "iopub.status.busy": "2024-03-14T17:17:53.986564Z",
     "iopub.status.idle": "2024-03-14T17:17:53.993491Z",
     "shell.execute_reply": "2024-03-14T17:17:53.992475Z"
    },
    "papermill": {
     "duration": 0.028995,
     "end_time": "2024-03-14T17:17:53.995636",
     "exception": false,
     "start_time": "2024-03-14T17:17:53.966641",
     "status": "completed"
    },
    "tags": []
   },
   "outputs": [],
   "source": [
    "def get_callbacks(fold):\n",
    "    callbacks = []\n",
    "    lr_cb = get_lr_callback(CFG.batch_size*CFG.replicas)  # Get lr callback\n",
    "    ckpt_cb = keras.callbacks.ModelCheckpoint(f'fold{fold}.keras',\n",
    "                                              monitor='val_auc',\n",
    "                                              save_best_only=True,\n",
    "                                              save_weights_only=False,\n",
    "                                              mode='max')  # Get Model checkpoint callback\n",
    "    callbacks.extend([lr_cb, ckpt_cb])  # Add lr and checkpoint callbacks\n",
    "\n",
    "    if CFG.wandb:  # If WandB is enabled\n",
    "        wb_cbs = get_wb_callbacks(fold)  # Get WandB callbacks\n",
    "        callbacks.extend(wb_cbs) \n",
    "        \n",
    "    return callbacks  # Return the list of callbacks"
   ]
  },
  {
   "cell_type": "code",
   "execution_count": 27,
   "id": "875de0f9",
   "metadata": {
    "execution": {
     "iopub.execute_input": "2024-03-14T17:17:54.035318Z",
     "iopub.status.busy": "2024-03-14T17:17:54.034912Z",
     "iopub.status.idle": "2024-03-14T17:17:54.042816Z",
     "shell.execute_reply": "2024-03-14T17:17:54.041636Z"
    },
    "papermill": {
     "duration": 0.030166,
     "end_time": "2024-03-14T17:17:54.045021",
     "exception": false,
     "start_time": "2024-03-14T17:17:54.014855",
     "status": "completed"
    },
    "tags": []
   },
   "outputs": [],
   "source": [
    "def build_model():\n",
    "    # Create a DebertaV3Classifier model\n",
    "    classifier = keras_nlp.models.DebertaV3Classifier.from_preset(\n",
    "        CFG.preset,\n",
    "        preprocessor=None,\n",
    "        num_classes=1 # one output per one option, for five options total 5 outputs\n",
    "    )\n",
    "    inputs = classifier.input\n",
    "    logits = classifier(inputs)\n",
    "        \n",
    "    # Compute final output\n",
    "    outputs = keras.layers.Activation(\"sigmoid\")(logits)\n",
    "    model = keras.Model(inputs, outputs)\n",
    "    \n",
    "    # Compile the model with optimizer, loss, and metrics\n",
    "    model.compile(\n",
    "        optimizer=keras.optimizers.AdamW(5e-6),\n",
    "        loss=keras.losses.BinaryCrossentropy(label_smoothing=0.02),\n",
    "        metrics=[\n",
    "            keras.metrics.AUC(name=\"auc\"),\n",
    "        ],\n",
    "        jit_compile=True\n",
    "    )\n",
    "    return model"
   ]
  },
  {
   "cell_type": "code",
   "execution_count": 28,
   "id": "20f8ffac",
   "metadata": {
    "execution": {
     "iopub.execute_input": "2024-03-14T17:17:54.084573Z",
     "iopub.status.busy": "2024-03-14T17:17:54.083650Z",
     "iopub.status.idle": "2024-03-14T17:18:05.253926Z",
     "shell.execute_reply": "2024-03-14T17:18:05.253020Z"
    },
    "papermill": {
     "duration": 11.192876,
     "end_time": "2024-03-14T17:18:05.256626",
     "exception": false,
     "start_time": "2024-03-14T17:17:54.063750",
     "status": "completed"
    },
    "tags": []
   },
   "outputs": [
    {
     "name": "stdout",
     "output_type": "stream",
     "text": [
      "Downloading data from https://storage.googleapis.com/keras-nlp/models/deberta_v3_base_en/v1/model.h5\n",
      "\u001b[1m735557816/735557816\u001b[0m \u001b[32m━━━━━━━━━━━━━━━━━━━━\u001b[0m\u001b[37m\u001b[0m \u001b[1m3s\u001b[0m 0us/step\n"
     ]
    }
   ],
   "source": [
    "model = build_model()"
   ]
  },
  {
   "cell_type": "code",
   "execution_count": 29,
   "id": "f36da5c5",
   "metadata": {
    "execution": {
     "iopub.execute_input": "2024-03-14T17:18:05.308725Z",
     "iopub.status.busy": "2024-03-14T17:18:05.308339Z",
     "iopub.status.idle": "2024-03-14T17:18:05.337733Z",
     "shell.execute_reply": "2024-03-14T17:18:05.336744Z"
    },
    "papermill": {
     "duration": 0.057172,
     "end_time": "2024-03-14T17:18:05.340002",
     "exception": false,
     "start_time": "2024-03-14T17:18:05.282830",
     "status": "completed"
    },
    "tags": []
   },
   "outputs": [
    {
     "data": {
      "text/html": [
       "<pre style=\"white-space:pre;overflow-x:auto;line-height:normal;font-family:Menlo,'DejaVu Sans Mono',consolas,'Courier New',monospace\"><span style=\"font-weight: bold\">Model: \"functional_1\"</span>\n",
       "</pre>\n"
      ],
      "text/plain": [
       "\u001b[1mModel: \"functional_1\"\u001b[0m\n"
      ]
     },
     "metadata": {},
     "output_type": "display_data"
    },
    {
     "data": {
      "text/html": [
       "<pre style=\"white-space:pre;overflow-x:auto;line-height:normal;font-family:Menlo,'DejaVu Sans Mono',consolas,'Courier New',monospace\">┏━━━━━━━━━━━━━━━━━━━━━┳━━━━━━━━━━━━━━━━━━━┳━━━━━━━━━┳━━━━━━━━━━━━━━━━━━━━━━┓\n",
       "┃<span style=\"font-weight: bold\"> Layer (type)        </span>┃<span style=\"font-weight: bold\"> Output Shape      </span>┃<span style=\"font-weight: bold\"> Param # </span>┃<span style=\"font-weight: bold\"> Connected to         </span>┃\n",
       "┡━━━━━━━━━━━━━━━━━━━━━╇━━━━━━━━━━━━━━━━━━━╇━━━━━━━━━╇━━━━━━━━━━━━━━━━━━━━━━┩\n",
       "│ padding_mask        │ (<span style=\"color: #00d7ff; text-decoration-color: #00d7ff\">None</span>, <span style=\"color: #00d7ff; text-decoration-color: #00d7ff\">None</span>)      │       <span style=\"color: #00af00; text-decoration-color: #00af00\">0</span> │ -                    │\n",
       "│ (<span style=\"color: #0087ff; text-decoration-color: #0087ff\">InputLayer</span>)        │                   │         │                      │\n",
       "├─────────────────────┼───────────────────┼─────────┼──────────────────────┤\n",
       "│ token_ids           │ (<span style=\"color: #00d7ff; text-decoration-color: #00d7ff\">None</span>, <span style=\"color: #00d7ff; text-decoration-color: #00d7ff\">None</span>)      │       <span style=\"color: #00af00; text-decoration-color: #00af00\">0</span> │ -                    │\n",
       "│ (<span style=\"color: #0087ff; text-decoration-color: #0087ff\">InputLayer</span>)        │                   │         │                      │\n",
       "├─────────────────────┼───────────────────┼─────────┼──────────────────────┤\n",
       "│ deberta_v3_classif… │ (<span style=\"color: #00d7ff; text-decoration-color: #00d7ff\">None</span>, <span style=\"color: #00af00; text-decoration-color: #00af00\">1</span>)         │ <span style=\"color: #00af00; text-decoration-color: #00af00\">184,42…</span> │ padding_mask[<span style=\"color: #00af00; text-decoration-color: #00af00\">0</span>][<span style=\"color: #00af00; text-decoration-color: #00af00\">0</span>],  │\n",
       "│ (<span style=\"color: #0087ff; text-decoration-color: #0087ff\">DebertaV3Classifi…</span> │                   │         │ token_ids[<span style=\"color: #00af00; text-decoration-color: #00af00\">0</span>][<span style=\"color: #00af00; text-decoration-color: #00af00\">0</span>]      │\n",
       "├─────────────────────┼───────────────────┼─────────┼──────────────────────┤\n",
       "│ activation          │ (<span style=\"color: #00d7ff; text-decoration-color: #00d7ff\">None</span>, <span style=\"color: #00af00; text-decoration-color: #00af00\">1</span>)         │       <span style=\"color: #00af00; text-decoration-color: #00af00\">0</span> │ deberta_v3_classifi… │\n",
       "│ (<span style=\"color: #0087ff; text-decoration-color: #0087ff\">Activation</span>)        │                   │         │                      │\n",
       "└─────────────────────┴───────────────────┴─────────┴──────────────────────┘\n",
       "</pre>\n"
      ],
      "text/plain": [
       "┏━━━━━━━━━━━━━━━━━━━━━┳━━━━━━━━━━━━━━━━━━━┳━━━━━━━━━┳━━━━━━━━━━━━━━━━━━━━━━┓\n",
       "┃\u001b[1m \u001b[0m\u001b[1mLayer (type)       \u001b[0m\u001b[1m \u001b[0m┃\u001b[1m \u001b[0m\u001b[1mOutput Shape     \u001b[0m\u001b[1m \u001b[0m┃\u001b[1m \u001b[0m\u001b[1mParam #\u001b[0m\u001b[1m \u001b[0m┃\u001b[1m \u001b[0m\u001b[1mConnected to        \u001b[0m\u001b[1m \u001b[0m┃\n",
       "┡━━━━━━━━━━━━━━━━━━━━━╇━━━━━━━━━━━━━━━━━━━╇━━━━━━━━━╇━━━━━━━━━━━━━━━━━━━━━━┩\n",
       "│ padding_mask        │ (\u001b[38;5;45mNone\u001b[0m, \u001b[38;5;45mNone\u001b[0m)      │       \u001b[38;5;34m0\u001b[0m │ -                    │\n",
       "│ (\u001b[38;5;33mInputLayer\u001b[0m)        │                   │         │                      │\n",
       "├─────────────────────┼───────────────────┼─────────┼──────────────────────┤\n",
       "│ token_ids           │ (\u001b[38;5;45mNone\u001b[0m, \u001b[38;5;45mNone\u001b[0m)      │       \u001b[38;5;34m0\u001b[0m │ -                    │\n",
       "│ (\u001b[38;5;33mInputLayer\u001b[0m)        │                   │         │                      │\n",
       "├─────────────────────┼───────────────────┼─────────┼──────────────────────┤\n",
       "│ deberta_v3_classif… │ (\u001b[38;5;45mNone\u001b[0m, \u001b[38;5;34m1\u001b[0m)         │ \u001b[38;5;34m184,42…\u001b[0m │ padding_mask[\u001b[38;5;34m0\u001b[0m][\u001b[38;5;34m0\u001b[0m],  │\n",
       "│ (\u001b[38;5;33mDebertaV3Classifi…\u001b[0m │                   │         │ token_ids[\u001b[38;5;34m0\u001b[0m][\u001b[38;5;34m0\u001b[0m]      │\n",
       "├─────────────────────┼───────────────────┼─────────┼──────────────────────┤\n",
       "│ activation          │ (\u001b[38;5;45mNone\u001b[0m, \u001b[38;5;34m1\u001b[0m)         │       \u001b[38;5;34m0\u001b[0m │ deberta_v3_classifi… │\n",
       "│ (\u001b[38;5;33mActivation\u001b[0m)        │                   │         │                      │\n",
       "└─────────────────────┴───────────────────┴─────────┴──────────────────────┘\n"
      ]
     },
     "metadata": {},
     "output_type": "display_data"
    },
    {
     "data": {
      "text/html": [
       "<pre style=\"white-space:pre;overflow-x:auto;line-height:normal;font-family:Menlo,'DejaVu Sans Mono',consolas,'Courier New',monospace\"><span style=\"font-weight: bold\"> Total params: </span><span style=\"color: #00af00; text-decoration-color: #00af00\">184,422,913</span> (703.52 MB)\n",
       "</pre>\n"
      ],
      "text/plain": [
       "\u001b[1m Total params: \u001b[0m\u001b[38;5;34m184,422,913\u001b[0m (703.52 MB)\n"
      ]
     },
     "metadata": {},
     "output_type": "display_data"
    },
    {
     "data": {
      "text/html": [
       "<pre style=\"white-space:pre;overflow-x:auto;line-height:normal;font-family:Menlo,'DejaVu Sans Mono',consolas,'Courier New',monospace\"><span style=\"font-weight: bold\"> Trainable params: </span><span style=\"color: #00af00; text-decoration-color: #00af00\">184,422,913</span> (703.52 MB)\n",
       "</pre>\n"
      ],
      "text/plain": [
       "\u001b[1m Trainable params: \u001b[0m\u001b[38;5;34m184,422,913\u001b[0m (703.52 MB)\n"
      ]
     },
     "metadata": {},
     "output_type": "display_data"
    },
    {
     "data": {
      "text/html": [
       "<pre style=\"white-space:pre;overflow-x:auto;line-height:normal;font-family:Menlo,'DejaVu Sans Mono',consolas,'Courier New',monospace\"><span style=\"font-weight: bold\"> Non-trainable params: </span><span style=\"color: #00af00; text-decoration-color: #00af00\">0</span> (0.00 B)\n",
       "</pre>\n"
      ],
      "text/plain": [
       "\u001b[1m Non-trainable params: \u001b[0m\u001b[38;5;34m0\u001b[0m (0.00 B)\n"
      ]
     },
     "metadata": {},
     "output_type": "display_data"
    }
   ],
   "source": [
    "model.summary()"
   ]
  },
  {
   "cell_type": "code",
   "execution_count": 30,
   "id": "6121a589",
   "metadata": {
    "execution": {
     "iopub.execute_input": "2024-03-14T17:18:05.393762Z",
     "iopub.status.busy": "2024-03-14T17:18:05.393160Z",
     "iopub.status.idle": "2024-03-14T17:18:05.397397Z",
     "shell.execute_reply": "2024-03-14T17:18:05.396510Z"
    },
    "papermill": {
     "duration": 0.033365,
     "end_time": "2024-03-14T17:18:05.399516",
     "exception": false,
     "start_time": "2024-03-14T17:18:05.366151",
     "status": "completed"
    },
    "tags": []
   },
   "outputs": [],
   "source": [
    "#"
   ]
  },
  {
   "cell_type": "code",
   "execution_count": 31,
   "id": "f7943a41",
   "metadata": {
    "execution": {
     "iopub.execute_input": "2024-03-14T17:18:05.452891Z",
     "iopub.status.busy": "2024-03-14T17:18:05.452239Z",
     "iopub.status.idle": "2024-03-14T17:18:05.459389Z",
     "shell.execute_reply": "2024-03-14T17:18:05.458352Z"
    },
    "papermill": {
     "duration": 0.036221,
     "end_time": "2024-03-14T17:18:05.461662",
     "exception": false,
     "start_time": "2024-03-14T17:18:05.425441",
     "status": "completed"
    },
    "tags": []
   },
   "outputs": [],
   "source": [
    "df = pd.concat([train_X, train_y], axis=1)"
   ]
  },
  {
   "cell_type": "code",
   "execution_count": 32,
   "id": "1ee48c1b",
   "metadata": {
    "execution": {
     "iopub.execute_input": "2024-03-14T17:18:05.520760Z",
     "iopub.status.busy": "2024-03-14T17:18:05.519854Z",
     "iopub.status.idle": "2024-03-14T17:18:05.533604Z",
     "shell.execute_reply": "2024-03-14T17:18:05.532297Z"
    },
    "papermill": {
     "duration": 0.048846,
     "end_time": "2024-03-14T17:18:05.536598",
     "exception": false,
     "start_time": "2024-03-14T17:18:05.487752",
     "status": "completed"
    },
    "tags": []
   },
   "outputs": [
    {
     "data": {
      "text/html": [
       "<div>\n",
       "<style scoped>\n",
       "    .dataframe tbody tr th:only-of-type {\n",
       "        vertical-align: middle;\n",
       "    }\n",
       "\n",
       "    .dataframe tbody tr th {\n",
       "        vertical-align: top;\n",
       "    }\n",
       "\n",
       "    .dataframe thead th {\n",
       "        text-align: right;\n",
       "    }\n",
       "</style>\n",
       "<table border=\"1\" class=\"dataframe\">\n",
       "  <thead>\n",
       "    <tr style=\"text-align: right;\">\n",
       "      <th></th>\n",
       "      <th>X</th>\n",
       "      <th>y</th>\n",
       "    </tr>\n",
       "  </thead>\n",
       "  <tbody>\n",
       "    <tr>\n",
       "      <th>0</th>\n",
       "      <td>Our Deeds are the Reason of this #earthquake M...</td>\n",
       "      <td>1</td>\n",
       "    </tr>\n",
       "    <tr>\n",
       "      <th>1</th>\n",
       "      <td>Forest fire near La Ronge Sask. Canada:</td>\n",
       "      <td>1</td>\n",
       "    </tr>\n",
       "    <tr>\n",
       "      <th>2</th>\n",
       "      <td>All residents asked to 'shelter in place' are ...</td>\n",
       "      <td>1</td>\n",
       "    </tr>\n",
       "    <tr>\n",
       "      <th>3</th>\n",
       "      <td>13,000 people receive #wildfires evacuation or...</td>\n",
       "      <td>1</td>\n",
       "    </tr>\n",
       "    <tr>\n",
       "      <th>4</th>\n",
       "      <td>Just got sent this photo from Ruby #Alaska as ...</td>\n",
       "      <td>1</td>\n",
       "    </tr>\n",
       "  </tbody>\n",
       "</table>\n",
       "</div>"
      ],
      "text/plain": [
       "                                                   X  y\n",
       "0  Our Deeds are the Reason of this #earthquake M...  1\n",
       "1           Forest fire near La Ronge Sask. Canada:   1\n",
       "2  All residents asked to 'shelter in place' are ...  1\n",
       "3  13,000 people receive #wildfires evacuation or...  1\n",
       "4  Just got sent this photo from Ruby #Alaska as ...  1"
      ]
     },
     "execution_count": 32,
     "metadata": {},
     "output_type": "execute_result"
    }
   ],
   "source": [
    "df.head()"
   ]
  },
  {
   "cell_type": "code",
   "execution_count": 33,
   "id": "b7af9837",
   "metadata": {
    "execution": {
     "iopub.execute_input": "2024-03-14T17:18:05.608633Z",
     "iopub.status.busy": "2024-03-14T17:18:05.607837Z",
     "iopub.status.idle": "2024-03-14T17:18:06.622364Z",
     "shell.execute_reply": "2024-03-14T17:18:06.621104Z"
    },
    "papermill": {
     "duration": 1.055852,
     "end_time": "2024-03-14T17:18:06.624871",
     "exception": false,
     "start_time": "2024-03-14T17:18:05.569019",
     "status": "completed"
    },
    "tags": []
   },
   "outputs": [
    {
     "data": {
      "text/plain": [
       "fold  y\n",
       "0     0    868\n",
       "      1    655\n",
       "1     0    869\n",
       "      1    654\n",
       "2     0    869\n",
       "      1    654\n",
       "3     0    868\n",
       "      1    654\n",
       "4     0    868\n",
       "      1    654\n",
       "dtype: int64"
      ]
     },
     "execution_count": 33,
     "metadata": {},
     "output_type": "execute_result"
    }
   ],
   "source": [
    "from sklearn.model_selection import StratifiedKFold  # Import package\n",
    "\n",
    "skf = StratifiedKFold(n_splits=CFG.num_folds, shuffle=True, random_state=CFG.seed)  # Initialize K-Fold\n",
    "\n",
    "df = df.reset_index(drop=True)  # Reset dataframe index\n",
    "\n",
    "df['stratify'] = df.y.astype(str)\n",
    "\n",
    "df[\"fold\"] = -1  # New 'fold' column\n",
    "\n",
    "# Assign folds using StratifiedKFold\n",
    "for fold, (train_idx, val_idx) in enumerate(skf.split(df, df['stratify'])):\n",
    "    df.loc[val_idx, 'fold'] = fold\n",
    "\n",
    "# Display label distribution for each fold\n",
    "df.groupby([\"fold\", \"y\",]).size()"
   ]
  },
  {
   "cell_type": "code",
   "execution_count": 34,
   "id": "1bffd00b",
   "metadata": {
    "execution": {
     "iopub.execute_input": "2024-03-14T17:18:06.688817Z",
     "iopub.status.busy": "2024-03-14T17:18:06.687732Z",
     "iopub.status.idle": "2024-03-14T17:18:06.697280Z",
     "shell.execute_reply": "2024-03-14T17:18:06.696479Z"
    },
    "papermill": {
     "duration": 0.043261,
     "end_time": "2024-03-14T17:18:06.699361",
     "exception": false,
     "start_time": "2024-03-14T17:18:06.656100",
     "status": "completed"
    },
    "tags": []
   },
   "outputs": [],
   "source": [
    "def build_dataset(texts, labels=None, batch_size=32,\n",
    "                  cache=False, drop_remainder=True,\n",
    "                  repeat=False, shuffle=1024):\n",
    "    AUTO = tf.data.AUTOTUNE  # AUTOTUNE option\n",
    "    slices = (texts,) if labels is None else (texts, labels)  # Create slices\n",
    "    ds = tf.data.Dataset.from_tensor_slices(slices)  # Create dataset from slices\n",
    "    ds = ds.cache() if cache else ds  # Cache dataset if enabled\n",
    "    ds = ds.map(preprocess_fn, num_parallel_calls=AUTO)  # Map preprocessing function\n",
    "    ds = ds.repeat() if repeat else ds  # Repeat dataset if enabled\n",
    "    opt = tf.data.Options()  # Create dataset options\n",
    "    if shuffle: \n",
    "        ds = ds.shuffle(shuffle, seed=CFG.seed)  # Shuffle dataset if enabled\n",
    "        opt.experimental_deterministic = False\n",
    "    ds = ds.with_options(opt)  # Set dataset options\n",
    "    ds = ds.batch(batch_size, drop_remainder=drop_remainder)  # Batch dataset\n",
    "    ds = ds.prefetch(AUTO)  # Prefetch next batch\n",
    "    return ds  # Return the built dataset"
   ]
  },
  {
   "cell_type": "code",
   "execution_count": 35,
   "id": "67f4a0f1",
   "metadata": {
    "execution": {
     "iopub.execute_input": "2024-03-14T17:18:06.751409Z",
     "iopub.status.busy": "2024-03-14T17:18:06.751034Z",
     "iopub.status.idle": "2024-03-14T17:18:06.765882Z",
     "shell.execute_reply": "2024-03-14T17:18:06.765089Z"
    },
    "papermill": {
     "duration": 0.042842,
     "end_time": "2024-03-14T17:18:06.767674",
     "exception": false,
     "start_time": "2024-03-14T17:18:06.724832",
     "status": "completed"
    },
    "tags": []
   },
   "outputs": [
    {
     "name": "stderr",
     "output_type": "stream",
     "text": [
      "\u001b[34m\u001b[1mwandb\u001b[0m: Currently logged in as: \u001b[33manony-mouse-374958880726015426\u001b[0m. Use \u001b[1m`wandb login --relogin`\u001b[0m to force relogin\n"
     ]
    },
    {
     "data": {
      "text/plain": [
       "True"
      ]
     },
     "execution_count": 35,
     "metadata": {},
     "output_type": "execute_result"
    }
   ],
   "source": [
    "wandb.login()"
   ]
  },
  {
   "cell_type": "code",
   "execution_count": 36,
   "id": "e56de064",
   "metadata": {
    "execution": {
     "iopub.execute_input": "2024-03-14T17:18:06.834134Z",
     "iopub.status.busy": "2024-03-14T17:18:06.833733Z",
     "iopub.status.idle": "2024-03-14T17:46:19.362863Z",
     "shell.execute_reply": "2024-03-14T17:46:19.361847Z"
    },
    "papermill": {
     "duration": 1692.565839,
     "end_time": "2024-03-14T17:46:19.365068",
     "exception": false,
     "start_time": "2024-03-14T17:18:06.799229",
     "status": "completed"
    },
    "tags": []
   },
   "outputs": [
    {
     "name": "stderr",
     "output_type": "stream",
     "text": [
      "\u001b[34m\u001b[1mwandb\u001b[0m: wandb version 0.16.4 is available!  To upgrade, please run:\n",
      "\u001b[34m\u001b[1mwandb\u001b[0m:  $ pip install wandb --upgrade\n",
      "\u001b[34m\u001b[1mwandb\u001b[0m: Tracking run with wandb version 0.16.3\n",
      "\u001b[34m\u001b[1mwandb\u001b[0m: Run data is saved locally in \u001b[35m\u001b[1m/kaggle/working/wandb/run-20240314_171806-v6oqju18\u001b[0m\n",
      "\u001b[34m\u001b[1mwandb\u001b[0m: Run \u001b[1m`wandb offline`\u001b[0m to turn off syncing.\n",
      "\u001b[34m\u001b[1mwandb\u001b[0m: Syncing run \u001b[33mfold-0|max_seq-160|model-deberta_v3_base_en\u001b[0m\n",
      "\u001b[34m\u001b[1mwandb\u001b[0m: ⭐️ View project at \u001b[34m\u001b[4mhttps://wandb.ai/anony-mouse-374958880726015426/dist-tweet-classification?apiKey=3a64eae6982bcf9d73577d1a1f284774a358b074\u001b[0m\n",
      "\u001b[34m\u001b[1mwandb\u001b[0m: 🚀 View run at \u001b[34m\u001b[4mhttps://wandb.ai/anony-mouse-374958880726015426/dist-tweet-classification/runs/v6oqju18?apiKey=3a64eae6982bcf9d73577d1a1f284774a358b074\u001b[0m\n",
      "\u001b[34m\u001b[1mwandb\u001b[0m: \u001b[33mWARNING\u001b[0m Do NOT share these links with anyone. They can be used to claim your runs.\n"
     ]
    },
    {
     "name": "stdout",
     "output_type": "stream",
     "text": [
      "##################################################\n",
      "\tFold: 1 | Model: deberta_v3_base_en\n",
      "\tBatch Size: 3 | Scheduler: cosine\n",
      "\tNum Train: 6090 | Num Valid: 1523\n",
      "##################################################\n"
     ]
    },
    {
     "name": "stderr",
     "output_type": "stream",
     "text": [
      "/opt/conda/lib/python3.10/site-packages/keras_core/src/backend/jax/numpy.py:123: UserWarning: Explicitly requested dtype int64 requested in arange is not available, and will be truncated to dtype int32. To enable more dtypes, set the jax_enable_x64 configuration option or the JAX_ENABLE_X64 shell environment variable. See https://github.com/google/jax#current-gotchas for more.\n",
      "  return jnp.arange(start, stop, step=step, dtype=dtype)\n",
      "/opt/conda/lib/python3.10/site-packages/keras_core/src/backend/jax/core.py:58: UserWarning: Explicitly requested dtype int64 requested in array is not available, and will be truncated to dtype int32. To enable more dtypes, set the jax_enable_x64 configuration option or the JAX_ENABLE_X64 shell environment variable. See https://github.com/google/jax#current-gotchas for more.\n",
      "  return jnp.array(x, dtype=dtype)\n"
     ]
    },
    {
     "name": "stdout",
     "output_type": "stream",
     "text": [
      "Epoch 1/3\n",
      "\u001b[1m2030/2030\u001b[0m \u001b[32m━━━━━━━━━━━━━━━━━━━━\u001b[0m\u001b[37m\u001b[0m \u001b[1m0s\u001b[0m 112ms/step - auc: 0.6306 - loss: 0.6666"
     ]
    },
    {
     "name": "stderr",
     "output_type": "stream",
     "text": [
      "\u001b[34m\u001b[1mwandb\u001b[0m: \u001b[32m\u001b[41mERROR\u001b[0m Unable to log learning rate.\n"
     ]
    },
    {
     "name": "stdout",
     "output_type": "stream",
     "text": [
      "\u001b[1m2030/2030\u001b[0m \u001b[32m━━━━━━━━━━━━━━━━━━━━\u001b[0m\u001b[37m\u001b[0m \u001b[1m292s\u001b[0m 128ms/step - auc: 0.6306 - loss: 0.6666 - val_auc: 0.8772 - val_loss: 0.5007 - learning_rate: 6.0000e-07\n",
      "Epoch 2/3\n",
      "\u001b[1m2030/2030\u001b[0m \u001b[32m━━━━━━━━━━━━━━━━━━━━\u001b[0m\u001b[37m\u001b[0m \u001b[1m254s\u001b[0m 125ms/step - auc: 0.8449 - loss: 0.4941 - val_auc: 0.8935 - val_loss: 0.4152 - learning_rate: 1.5000e-06\n",
      "Epoch 3/3\n",
      "\u001b[1m2030/2030\u001b[0m \u001b[32m━━━━━━━━━━━━━━━━━━━━\u001b[0m\u001b[37m\u001b[0m \u001b[1m253s\u001b[0m 124ms/step - auc: 0.8912 - loss: 0.3991 - val_auc: 0.8971 - val_loss: 0.3996 - learning_rate: 1.4796e-06\n",
      "\n",
      "================= FOLD 0 RESULTS =================\n",
      ">>>> BEST Loss  : 0.400\n",
      ">>>> BEST AUC   : 0.897\n",
      ">>>> BEST Epoch : 2\n",
      "==================================================\n"
     ]
    },
    {
     "name": "stderr",
     "output_type": "stream",
     "text": [
      "\u001b[34m\u001b[1mwandb\u001b[0m:                                                                                \n",
      "\u001b[34m\u001b[1mwandb\u001b[0m: \n",
      "\u001b[34m\u001b[1mwandb\u001b[0m: Run history:\n",
      "\u001b[34m\u001b[1mwandb\u001b[0m:            best_auc ▁\n",
      "\u001b[34m\u001b[1mwandb\u001b[0m:          best_epoch ▁\n",
      "\u001b[34m\u001b[1mwandb\u001b[0m:           best_loss ▁\n",
      "\u001b[34m\u001b[1mwandb\u001b[0m:           epoch/auc ▁▆█\n",
      "\u001b[34m\u001b[1mwandb\u001b[0m:         epoch/epoch ▁▅█\n",
      "\u001b[34m\u001b[1mwandb\u001b[0m: epoch/learning_rate ▁██\n",
      "\u001b[34m\u001b[1mwandb\u001b[0m:          epoch/loss █▃▁\n",
      "\u001b[34m\u001b[1mwandb\u001b[0m:       epoch/val_auc ▁▇█\n",
      "\u001b[34m\u001b[1mwandb\u001b[0m:      epoch/val_loss █▂▁\n",
      "\u001b[34m\u001b[1mwandb\u001b[0m: \n",
      "\u001b[34m\u001b[1mwandb\u001b[0m: Run summary:\n",
      "\u001b[34m\u001b[1mwandb\u001b[0m:            best_auc 0.89706\n",
      "\u001b[34m\u001b[1mwandb\u001b[0m:          best_epoch 2\n",
      "\u001b[34m\u001b[1mwandb\u001b[0m:           best_loss 0.39957\n",
      "\u001b[34m\u001b[1mwandb\u001b[0m:           epoch/auc 0.89813\n",
      "\u001b[34m\u001b[1mwandb\u001b[0m:         epoch/epoch 2\n",
      "\u001b[34m\u001b[1mwandb\u001b[0m: epoch/learning_rate 0.0\n",
      "\u001b[34m\u001b[1mwandb\u001b[0m:          epoch/loss 0.39144\n",
      "\u001b[34m\u001b[1mwandb\u001b[0m:       epoch/val_auc 0.89706\n",
      "\u001b[34m\u001b[1mwandb\u001b[0m:      epoch/val_loss 0.39957\n",
      "\u001b[34m\u001b[1mwandb\u001b[0m: \n",
      "\u001b[34m\u001b[1mwandb\u001b[0m: 🚀 View run \u001b[33mfold-0|max_seq-160|model-deberta_v3_base_en\u001b[0m at: \u001b[34m\u001b[4mhttps://wandb.ai/anony-mouse-374958880726015426/dist-tweet-classification/runs/v6oqju18?apiKey=3a64eae6982bcf9d73577d1a1f284774a358b074\u001b[0m\n",
      "\u001b[34m\u001b[1mwandb\u001b[0m: Synced 6 W&B file(s), 0 media file(s), 0 artifact file(s) and 0 other file(s)\n",
      "\u001b[34m\u001b[1mwandb\u001b[0m: Find logs at: \u001b[35m\u001b[1m./wandb/run-20240314_171806-v6oqju18/logs\u001b[0m\n"
     ]
    },
    {
     "name": "stdout",
     "output_type": "stream",
     "text": [
      "\n",
      "\n",
      "\n"
     ]
    },
    {
     "name": "stderr",
     "output_type": "stream",
     "text": [
      "\u001b[34m\u001b[1mwandb\u001b[0m: wandb version 0.16.4 is available!  To upgrade, please run:\n",
      "\u001b[34m\u001b[1mwandb\u001b[0m:  $ pip install wandb --upgrade\n",
      "\u001b[34m\u001b[1mwandb\u001b[0m: Tracking run with wandb version 0.16.3\n",
      "\u001b[34m\u001b[1mwandb\u001b[0m: Run data is saved locally in \u001b[35m\u001b[1m/kaggle/working/wandb/run-20240314_173217-c7z7i9j3\u001b[0m\n",
      "\u001b[34m\u001b[1mwandb\u001b[0m: Run \u001b[1m`wandb offline`\u001b[0m to turn off syncing.\n",
      "\u001b[34m\u001b[1mwandb\u001b[0m: Syncing run \u001b[33mfold-1|max_seq-160|model-deberta_v3_base_en\u001b[0m\n",
      "\u001b[34m\u001b[1mwandb\u001b[0m: ⭐️ View project at \u001b[34m\u001b[4mhttps://wandb.ai/anony-mouse-374958880726015426/dist-tweet-classification?apiKey=3a64eae6982bcf9d73577d1a1f284774a358b074\u001b[0m\n",
      "\u001b[34m\u001b[1mwandb\u001b[0m: 🚀 View run at \u001b[34m\u001b[4mhttps://wandb.ai/anony-mouse-374958880726015426/dist-tweet-classification/runs/c7z7i9j3?apiKey=3a64eae6982bcf9d73577d1a1f284774a358b074\u001b[0m\n",
      "\u001b[34m\u001b[1mwandb\u001b[0m: \u001b[33mWARNING\u001b[0m Do NOT share these links with anyone. They can be used to claim your runs.\n"
     ]
    },
    {
     "name": "stdout",
     "output_type": "stream",
     "text": [
      "##################################################\n",
      "\tFold: 2 | Model: deberta_v3_base_en\n",
      "\tBatch Size: 3 | Scheduler: cosine\n",
      "\tNum Train: 6090 | Num Valid: 1523\n",
      "##################################################\n",
      "Epoch 1/3\n",
      "\u001b[1m2030/2030\u001b[0m \u001b[32m━━━━━━━━━━━━━━━━━━━━\u001b[0m\u001b[37m\u001b[0m \u001b[1m284s\u001b[0m 126ms/step - auc: 0.5966 - loss: 0.6658 - val_auc: 0.8658 - val_loss: 0.5289 - learning_rate: 6.0000e-07\n",
      "Epoch 2/3\n",
      "\u001b[1m2030/2030\u001b[0m \u001b[32m━━━━━━━━━━━━━━━━━━━━\u001b[0m\u001b[37m\u001b[0m \u001b[1m251s\u001b[0m 124ms/step - auc: 0.8581 - loss: 0.4714 - val_auc: 0.8974 - val_loss: 0.3986 - learning_rate: 1.5000e-06\n",
      "Epoch 3/3\n",
      "\u001b[1m2030/2030\u001b[0m \u001b[32m━━━━━━━━━━━━━━━━━━━━\u001b[0m\u001b[37m\u001b[0m \u001b[1m258s\u001b[0m 127ms/step - auc: 0.8936 - loss: 0.3901 - val_auc: 0.9006 - val_loss: 0.3936 - learning_rate: 1.4796e-06\n",
      "\n",
      "================= FOLD 1 RESULTS =================\n",
      ">>>> BEST Loss  : 0.394\n",
      ">>>> BEST AUC   : 0.901\n",
      ">>>> BEST Epoch : 2\n",
      "==================================================\n"
     ]
    },
    {
     "name": "stderr",
     "output_type": "stream",
     "text": [
      "\u001b[34m\u001b[1mwandb\u001b[0m:                                                                                \n",
      "\u001b[34m\u001b[1mwandb\u001b[0m: \n",
      "\u001b[34m\u001b[1mwandb\u001b[0m: Run history:\n",
      "\u001b[34m\u001b[1mwandb\u001b[0m:            best_auc ▁\n",
      "\u001b[34m\u001b[1mwandb\u001b[0m:          best_epoch ▁\n",
      "\u001b[34m\u001b[1mwandb\u001b[0m:           best_loss ▁\n",
      "\u001b[34m\u001b[1mwandb\u001b[0m:           epoch/auc ▁▇█\n",
      "\u001b[34m\u001b[1mwandb\u001b[0m:         epoch/epoch ▁▅█\n",
      "\u001b[34m\u001b[1mwandb\u001b[0m: epoch/learning_rate ▁██\n",
      "\u001b[34m\u001b[1mwandb\u001b[0m:          epoch/loss █▃▁\n",
      "\u001b[34m\u001b[1mwandb\u001b[0m:       epoch/val_auc ▁▇█\n",
      "\u001b[34m\u001b[1mwandb\u001b[0m:      epoch/val_loss █▁▁\n",
      "\u001b[34m\u001b[1mwandb\u001b[0m: \n",
      "\u001b[34m\u001b[1mwandb\u001b[0m: Run summary:\n",
      "\u001b[34m\u001b[1mwandb\u001b[0m:            best_auc 0.9006\n",
      "\u001b[34m\u001b[1mwandb\u001b[0m:          best_epoch 2\n",
      "\u001b[34m\u001b[1mwandb\u001b[0m:           best_loss 0.39358\n",
      "\u001b[34m\u001b[1mwandb\u001b[0m:           epoch/auc 0.90214\n",
      "\u001b[34m\u001b[1mwandb\u001b[0m:         epoch/epoch 2\n",
      "\u001b[34m\u001b[1mwandb\u001b[0m: epoch/learning_rate 0.0\n",
      "\u001b[34m\u001b[1mwandb\u001b[0m:          epoch/loss 0.37853\n",
      "\u001b[34m\u001b[1mwandb\u001b[0m:       epoch/val_auc 0.9006\n",
      "\u001b[34m\u001b[1mwandb\u001b[0m:      epoch/val_loss 0.39358\n",
      "\u001b[34m\u001b[1mwandb\u001b[0m: \n",
      "\u001b[34m\u001b[1mwandb\u001b[0m: 🚀 View run \u001b[33mfold-1|max_seq-160|model-deberta_v3_base_en\u001b[0m at: \u001b[34m\u001b[4mhttps://wandb.ai/anony-mouse-374958880726015426/dist-tweet-classification/runs/c7z7i9j3?apiKey=3a64eae6982bcf9d73577d1a1f284774a358b074\u001b[0m\n",
      "\u001b[34m\u001b[1mwandb\u001b[0m: Synced 6 W&B file(s), 0 media file(s), 0 artifact file(s) and 0 other file(s)\n",
      "\u001b[34m\u001b[1mwandb\u001b[0m: Find logs at: \u001b[35m\u001b[1m./wandb/run-20240314_173217-c7z7i9j3/logs\u001b[0m\n"
     ]
    },
    {
     "name": "stdout",
     "output_type": "stream",
     "text": [
      "\n",
      "\n",
      "\n"
     ]
    }
   ],
   "source": [
    "for fold in CFG.selected_folds:\n",
    "    # Initialize Weights and Biases if enabled\n",
    "    if CFG.wandb:\n",
    "        run = wandb_init(fold)\n",
    "\n",
    "    # Get train and validation datasets\n",
    "    (train_ds, train_df), (valid_ds, valid_df) = get_datasets(fold)\n",
    "    \n",
    "    # Get callback functions for training\n",
    "    callbacks = get_callbacks(fold)\n",
    "\n",
    "    # Print training information\n",
    "    print('#' * 50)\n",
    "    print(f'\\tFold: {fold + 1} | Model: {CFG.preset}\\n\\tBatch Size: {CFG.batch_size * CFG.replicas} | Scheduler: {CFG.scheduler}')\n",
    "    print(f'\\tNum Train: {len(train_df)} | Num Valid: {len(valid_df)}')\n",
    "    print('#' * 50)\n",
    "    \n",
    "    # Clear TensorFlow session and build the model within the strategy scope\n",
    "    K.clear_session()\n",
    "    with strategy.scope():\n",
    "        model = build_model()\n",
    "\n",
    "    # Start training the model\n",
    "    history = model.fit(\n",
    "        train_ds,\n",
    "        epochs=CFG.epochs,\n",
    "        validation_data=valid_ds,\n",
    "        callbacks=callbacks,\n",
    "        steps_per_epoch=int(len(train_df) / CFG.batch_size / CFG.replicas),\n",
    "    )\n",
    "    \n",
    "    # Find the epoch with the best validation accuracy\n",
    "    best_epoch = np.argmax(model.history.history['val_auc'])\n",
    "    best_auc = model.history.history['val_auc'][best_epoch]\n",
    "    best_loss = model.history.history['val_loss'][best_epoch]\n",
    "\n",
    "    # Print and display best results\n",
    "    print(f'\\n{\"=\" * 17} FOLD {fold} RESULTS {\"=\" * 17}')\n",
    "    print(f'>>>> BEST Loss  : {best_loss:.3f}\\n>>>> BEST AUC   : {best_auc:.3f}\\n>>>> BEST Epoch : {best_epoch}')\n",
    "    print('=' * 50)\n",
    "    \n",
    "    # Log best result on Weights and Biases (wandb) if enabled\n",
    "    if CFG.wandb:\n",
    "        log_wandb()  # Log results\n",
    "        wandb.run.finish()  # Finish the run\n",
    "#         display(ipd.IFrame(run.url, width=1080, height=720)) # show wandb dashboard\n",
    "    print(\"\\n\\n\")"
   ]
  },
  {
   "cell_type": "code",
   "execution_count": 37,
   "id": "76632889",
   "metadata": {
    "execution": {
     "iopub.execute_input": "2024-03-14T17:46:21.657843Z",
     "iopub.status.busy": "2024-03-14T17:46:21.657433Z",
     "iopub.status.idle": "2024-03-14T17:46:21.662019Z",
     "shell.execute_reply": "2024-03-14T17:46:21.660992Z"
    },
    "papermill": {
     "duration": 1.17556,
     "end_time": "2024-03-14T17:46:21.664262",
     "exception": false,
     "start_time": "2024-03-14T17:46:20.488702",
     "status": "completed"
    },
    "tags": []
   },
   "outputs": [],
   "source": [
    "#test_df.head()"
   ]
  },
  {
   "cell_type": "code",
   "execution_count": 38,
   "id": "dc2f2a84",
   "metadata": {
    "execution": {
     "iopub.execute_input": "2024-03-14T17:46:23.973795Z",
     "iopub.status.busy": "2024-03-14T17:46:23.972822Z",
     "iopub.status.idle": "2024-03-14T17:46:23.977712Z",
     "shell.execute_reply": "2024-03-14T17:46:23.976701Z"
    },
    "papermill": {
     "duration": 1.123907,
     "end_time": "2024-03-14T17:46:23.980075",
     "exception": false,
     "start_time": "2024-03-14T17:46:22.856168",
     "status": "completed"
    },
    "tags": []
   },
   "outputs": [],
   "source": [
    "#valid_ds"
   ]
  },
  {
   "cell_type": "code",
   "execution_count": 39,
   "id": "b868b428",
   "metadata": {
    "execution": {
     "iopub.execute_input": "2024-03-14T17:46:26.287513Z",
     "iopub.status.busy": "2024-03-14T17:46:26.286769Z",
     "iopub.status.idle": "2024-03-14T17:46:26.291263Z",
     "shell.execute_reply": "2024-03-14T17:46:26.290310Z"
    },
    "papermill": {
     "duration": 1.188154,
     "end_time": "2024-03-14T17:46:26.293161",
     "exception": false,
     "start_time": "2024-03-14T17:46:25.105007",
     "status": "completed"
    },
    "tags": []
   },
   "outputs": [],
   "source": [
    "# predictions = model.predict(\n",
    "#     valid_ds,\n",
    "#     batch_size=min(CFG.batch_size * CFG.replicas * 2, len(valid_df)), # max batch size = valid size\n",
    "#     verbose=1\n",
    "# )"
   ]
  },
  {
   "cell_type": "code",
   "execution_count": 40,
   "id": "f7054b18",
   "metadata": {
    "execution": {
     "iopub.execute_input": "2024-03-14T17:46:28.655474Z",
     "iopub.status.busy": "2024-03-14T17:46:28.654483Z",
     "iopub.status.idle": "2024-03-14T17:46:28.658921Z",
     "shell.execute_reply": "2024-03-14T17:46:28.658022Z"
    },
    "papermill": {
     "duration": 1.180156,
     "end_time": "2024-03-14T17:46:28.661021",
     "exception": false,
     "start_time": "2024-03-14T17:46:27.480865",
     "status": "completed"
    },
    "tags": []
   },
   "outputs": [],
   "source": [
    "# pred_answers = (predictions > 0.5).astype(int).squeeze()\n",
    "# #true_answers = valid_df.y.values"
   ]
  },
  {
   "cell_type": "code",
   "execution_count": 41,
   "id": "963e18f2",
   "metadata": {
    "execution": {
     "iopub.execute_input": "2024-03-14T17:46:31.113312Z",
     "iopub.status.busy": "2024-03-14T17:46:31.112881Z",
     "iopub.status.idle": "2024-03-14T17:46:31.765594Z",
     "shell.execute_reply": "2024-03-14T17:46:31.764393Z"
    },
    "papermill": {
     "duration": 1.86845,
     "end_time": "2024-03-14T17:46:31.768377",
     "exception": false,
     "start_time": "2024-03-14T17:46:29.899927",
     "status": "completed"
    },
    "tags": []
   },
   "outputs": [],
   "source": [
    "def build_test(texts, labels=None, batch_size=32,\n",
    "                  cache=False, drop_remainder=False,\n",
    "                  repeat=False, shuffle=False):\n",
    "    AUTO = tf.data.AUTOTUNE  # AUTOTUNE option\n",
    "    slices = (texts,) if labels is None else (texts, labels)  # Create slices\n",
    "    ds = tf.data.Dataset.from_tensor_slices(slices)  # Create dataset from slices\n",
    "    ds = ds.cache() if cache else ds  # Cache dataset if enabled\n",
    "    ds = ds.map(preprocess_fn, num_parallel_calls=AUTO)  # Map preprocessing function\n",
    "    ds = ds.repeat() if repeat else ds  # Repeat dataset if enabled\n",
    "    opt = tf.data.Options()  # Create dataset options\n",
    "    if shuffle: \n",
    "        ds = ds.shuffle(shuffle, seed=CFG.seed)  # Shuffle dataset if enabled\n",
    "        opt.experimental_deterministic = False\n",
    "    ds = ds.with_options(opt)  # Set dataset options\n",
    "    ds = ds.batch(batch_size, drop_remainder=drop_remainder)  # Batch dataset\n",
    "    ds = ds.prefetch(AUTO)  # Prefetch next batch\n",
    "    return ds  # Return the built dataset\n",
    "\n",
    "test_ds = build_dataset(test_df['X'], test_df['y'],\n",
    "                             batch_size=min(CFG.batch_size*CFG.replicas, len(valid_df)), cache=CFG.cache,\n",
    "                             shuffle=False, drop_remainder=False, repeat=False)"
   ]
  },
  {
   "cell_type": "code",
   "execution_count": 42,
   "id": "169a0f3d",
   "metadata": {
    "execution": {
     "iopub.execute_input": "2024-03-14T17:46:34.195056Z",
     "iopub.status.busy": "2024-03-14T17:46:34.194591Z",
     "iopub.status.idle": "2024-03-14T17:47:20.915851Z",
     "shell.execute_reply": "2024-03-14T17:47:20.914586Z"
    },
    "papermill": {
     "duration": 47.907415,
     "end_time": "2024-03-14T17:47:20.918557",
     "exception": false,
     "start_time": "2024-03-14T17:46:33.011142",
     "status": "completed"
    },
    "tags": []
   },
   "outputs": [
    {
     "name": "stdout",
     "output_type": "stream",
     "text": [
      "\u001b[1m1088/1088\u001b[0m \u001b[32m━━━━━━━━━━━━━━━━━━━━\u001b[0m\u001b[37m\u001b[0m \u001b[1m47s\u001b[0m 37ms/step\n"
     ]
    }
   ],
   "source": [
    "predictions = model.predict(\n",
    "    test_ds,\n",
    "    batch_size=min(CFG.batch_size * CFG.replicas * 2, len(valid_df)), # max batch size = valid size\n",
    "    verbose=1\n",
    ")"
   ]
  },
  {
   "cell_type": "code",
   "execution_count": 43,
   "id": "d86d4835",
   "metadata": {
    "execution": {
     "iopub.execute_input": "2024-03-14T17:47:23.442691Z",
     "iopub.status.busy": "2024-03-14T17:47:23.441746Z",
     "iopub.status.idle": "2024-03-14T17:47:23.447193Z",
     "shell.execute_reply": "2024-03-14T17:47:23.446146Z"
    },
    "papermill": {
     "duration": 1.278054,
     "end_time": "2024-03-14T17:47:23.449292",
     "exception": false,
     "start_time": "2024-03-14T17:47:22.171238",
     "status": "completed"
    },
    "tags": []
   },
   "outputs": [],
   "source": [
    "pred_answers = (predictions > 0.5).astype(int).squeeze()\n",
    "#true_answers = test_df.y.values"
   ]
  },
  {
   "cell_type": "code",
   "execution_count": 44,
   "id": "a91c5ec0",
   "metadata": {
    "execution": {
     "iopub.execute_input": "2024-03-14T17:47:25.834761Z",
     "iopub.status.busy": "2024-03-14T17:47:25.834355Z",
     "iopub.status.idle": "2024-03-14T17:47:25.870063Z",
     "shell.execute_reply": "2024-03-14T17:47:25.868998Z"
    },
    "papermill": {
     "duration": 1.238416,
     "end_time": "2024-03-14T17:47:25.872371",
     "exception": false,
     "start_time": "2024-03-14T17:47:24.633955",
     "status": "completed"
    },
    "tags": []
   },
   "outputs": [
    {
     "data": {
      "text/html": [
       "<div>\n",
       "<style scoped>\n",
       "    .dataframe tbody tr th:only-of-type {\n",
       "        vertical-align: middle;\n",
       "    }\n",
       "\n",
       "    .dataframe tbody tr th {\n",
       "        vertical-align: top;\n",
       "    }\n",
       "\n",
       "    .dataframe thead th {\n",
       "        text-align: right;\n",
       "    }\n",
       "</style>\n",
       "<table border=\"1\" class=\"dataframe\">\n",
       "  <thead>\n",
       "    <tr style=\"text-align: right;\">\n",
       "      <th></th>\n",
       "      <th>id</th>\n",
       "      <th>target</th>\n",
       "    </tr>\n",
       "  </thead>\n",
       "  <tbody>\n",
       "    <tr>\n",
       "      <th>0</th>\n",
       "      <td>0</td>\n",
       "      <td>0</td>\n",
       "    </tr>\n",
       "    <tr>\n",
       "      <th>1</th>\n",
       "      <td>2</td>\n",
       "      <td>0</td>\n",
       "    </tr>\n",
       "    <tr>\n",
       "      <th>2</th>\n",
       "      <td>3</td>\n",
       "      <td>0</td>\n",
       "    </tr>\n",
       "    <tr>\n",
       "      <th>3</th>\n",
       "      <td>9</td>\n",
       "      <td>0</td>\n",
       "    </tr>\n",
       "    <tr>\n",
       "      <th>4</th>\n",
       "      <td>11</td>\n",
       "      <td>0</td>\n",
       "    </tr>\n",
       "  </tbody>\n",
       "</table>\n",
       "</div>"
      ],
      "text/plain": [
       "   id  target\n",
       "0   0       0\n",
       "1   2       0\n",
       "2   3       0\n",
       "3   9       0\n",
       "4  11       0"
      ]
     },
     "execution_count": 44,
     "metadata": {},
     "output_type": "execute_result"
    }
   ],
   "source": [
    "sample_submission = pd.read_csv(\"/kaggle/input/nlp-getting-started/sample_submission.csv\")\n",
    "sample_submission.head()"
   ]
  },
  {
   "cell_type": "code",
   "execution_count": 45,
   "id": "3d36c223",
   "metadata": {
    "execution": {
     "iopub.execute_input": "2024-03-14T17:47:28.367763Z",
     "iopub.status.busy": "2024-03-14T17:47:28.366772Z",
     "iopub.status.idle": "2024-03-14T17:47:28.372413Z",
     "shell.execute_reply": "2024-03-14T17:47:28.371360Z"
    },
    "papermill": {
     "duration": 1.198728,
     "end_time": "2024-03-14T17:47:28.374555",
     "exception": false,
     "start_time": "2024-03-14T17:47:27.175827",
     "status": "completed"
    },
    "tags": []
   },
   "outputs": [],
   "source": [
    "sample_submission[\"target\"] = pred_answers"
   ]
  },
  {
   "cell_type": "code",
   "execution_count": 46,
   "id": "8ff9215e",
   "metadata": {
    "execution": {
     "iopub.execute_input": "2024-03-14T17:47:30.801466Z",
     "iopub.status.busy": "2024-03-14T17:47:30.801063Z",
     "iopub.status.idle": "2024-03-14T17:47:30.811188Z",
     "shell.execute_reply": "2024-03-14T17:47:30.810031Z"
    },
    "papermill": {
     "duration": 1.201914,
     "end_time": "2024-03-14T17:47:30.813914",
     "exception": false,
     "start_time": "2024-03-14T17:47:29.612000",
     "status": "completed"
    },
    "tags": []
   },
   "outputs": [
    {
     "data": {
      "text/html": [
       "<div>\n",
       "<style scoped>\n",
       "    .dataframe tbody tr th:only-of-type {\n",
       "        vertical-align: middle;\n",
       "    }\n",
       "\n",
       "    .dataframe tbody tr th {\n",
       "        vertical-align: top;\n",
       "    }\n",
       "\n",
       "    .dataframe thead th {\n",
       "        text-align: right;\n",
       "    }\n",
       "</style>\n",
       "<table border=\"1\" class=\"dataframe\">\n",
       "  <thead>\n",
       "    <tr style=\"text-align: right;\">\n",
       "      <th></th>\n",
       "      <th>id</th>\n",
       "      <th>target</th>\n",
       "    </tr>\n",
       "  </thead>\n",
       "  <tbody>\n",
       "    <tr>\n",
       "      <th>0</th>\n",
       "      <td>0</td>\n",
       "      <td>1</td>\n",
       "    </tr>\n",
       "    <tr>\n",
       "      <th>1</th>\n",
       "      <td>2</td>\n",
       "      <td>1</td>\n",
       "    </tr>\n",
       "    <tr>\n",
       "      <th>2</th>\n",
       "      <td>3</td>\n",
       "      <td>1</td>\n",
       "    </tr>\n",
       "    <tr>\n",
       "      <th>3</th>\n",
       "      <td>9</td>\n",
       "      <td>1</td>\n",
       "    </tr>\n",
       "    <tr>\n",
       "      <th>4</th>\n",
       "      <td>11</td>\n",
       "      <td>1</td>\n",
       "    </tr>\n",
       "    <tr>\n",
       "      <th>5</th>\n",
       "      <td>12</td>\n",
       "      <td>1</td>\n",
       "    </tr>\n",
       "    <tr>\n",
       "      <th>6</th>\n",
       "      <td>21</td>\n",
       "      <td>0</td>\n",
       "    </tr>\n",
       "    <tr>\n",
       "      <th>7</th>\n",
       "      <td>22</td>\n",
       "      <td>0</td>\n",
       "    </tr>\n",
       "    <tr>\n",
       "      <th>8</th>\n",
       "      <td>27</td>\n",
       "      <td>0</td>\n",
       "    </tr>\n",
       "    <tr>\n",
       "      <th>9</th>\n",
       "      <td>29</td>\n",
       "      <td>0</td>\n",
       "    </tr>\n",
       "  </tbody>\n",
       "</table>\n",
       "</div>"
      ],
      "text/plain": [
       "   id  target\n",
       "0   0       1\n",
       "1   2       1\n",
       "2   3       1\n",
       "3   9       1\n",
       "4  11       1\n",
       "5  12       1\n",
       "6  21       0\n",
       "7  22       0\n",
       "8  27       0\n",
       "9  29       0"
      ]
     },
     "execution_count": 46,
     "metadata": {},
     "output_type": "execute_result"
    }
   ],
   "source": [
    "sample_submission.head(10)"
   ]
  },
  {
   "cell_type": "code",
   "execution_count": 47,
   "id": "e65aee3a",
   "metadata": {
    "execution": {
     "iopub.execute_input": "2024-03-14T17:47:33.505407Z",
     "iopub.status.busy": "2024-03-14T17:47:33.504931Z",
     "iopub.status.idle": "2024-03-14T17:47:33.509721Z",
     "shell.execute_reply": "2024-03-14T17:47:33.508727Z"
    },
    "papermill": {
     "duration": 1.35279,
     "end_time": "2024-03-14T17:47:33.511953",
     "exception": false,
     "start_time": "2024-03-14T17:47:32.159163",
     "status": "completed"
    },
    "tags": []
   },
   "outputs": [],
   "source": [
    "# from sklearn.metrics import roc_auc_score, accuracy_score\n",
    "\n",
    "# # Calculate AUC\n",
    "# #auc = roc_auc_score(true_answers, pred_answers)\n",
    "\n",
    "# # Calculate accuracy\n",
    "# accuracy = accuracy_score(true_answers, pred_answers)\n",
    "\n",
    "# #print(\"AUC:\", auc)\n",
    "# print(\"Accuracy:\", accuracy)\n"
   ]
  },
  {
   "cell_type": "markdown",
   "id": "fed4b6ce",
   "metadata": {
    "papermill": {
     "duration": 1.232386,
     "end_time": "2024-03-14T17:47:35.999316",
     "exception": false,
     "start_time": "2024-03-14T17:47:34.766930",
     "status": "completed"
    },
    "tags": []
   },
   "source": [
    "**submitting results**"
   ]
  },
  {
   "cell_type": "code",
   "execution_count": 48,
   "id": "36e53992",
   "metadata": {
    "execution": {
     "iopub.execute_input": "2024-03-14T17:47:38.441850Z",
     "iopub.status.busy": "2024-03-14T17:47:38.441435Z",
     "iopub.status.idle": "2024-03-14T17:47:38.453265Z",
     "shell.execute_reply": "2024-03-14T17:47:38.452478Z"
    },
    "papermill": {
     "duration": 1.182591,
     "end_time": "2024-03-14T17:47:38.455182",
     "exception": false,
     "start_time": "2024-03-14T17:47:37.272591",
     "status": "completed"
    },
    "tags": []
   },
   "outputs": [],
   "source": [
    "#sample_submission.to_csv('')\n",
    "sample_submission.to_csv(\"/kaggle/working/submission.csv\", index=False)"
   ]
  },
  {
   "cell_type": "code",
   "execution_count": 49,
   "id": "1aa1b1cf",
   "metadata": {
    "execution": {
     "iopub.execute_input": "2024-03-14T17:47:40.874722Z",
     "iopub.status.busy": "2024-03-14T17:47:40.873927Z",
     "iopub.status.idle": "2024-03-14T17:47:40.879291Z",
     "shell.execute_reply": "2024-03-14T17:47:40.878331Z"
    },
    "papermill": {
     "duration": 1.194661,
     "end_time": "2024-03-14T17:47:40.881381",
     "exception": false,
     "start_time": "2024-03-14T17:47:39.686720",
     "status": "completed"
    },
    "tags": []
   },
   "outputs": [],
   "source": [
    "# from tensorflow.keras.preprocessing.sequence import pad_sequences\n",
    "# from tensorflow.keras.preprocessing.text import Tokenizer\n",
    "\n",
    "# # Define the maximum sequence length\n",
    "# max_length = 160\n",
    "\n",
    "# # Initialize a tokenizer\n",
    "# tokenizer = Tokenizer(num_words=10000)  # Assuming you want to use 10000 most common words\n",
    "\n",
    "# # Fit the tokenizer on the training data\n",
    "# tokenizer.fit_on_texts(train_X)\n",
    "\n",
    "# # Convert text sequences to integer sequences\n",
    "# train_X_sequences = tokenizer.texts_to_sequences(train_X)\n",
    "\n",
    "# # Pad sequences to ensure consistent length\n",
    "# train_X_padded = pad_sequences(train_X_sequences, maxlen=max_length, padding='post', truncating='post')\n",
    "\n",
    "# # Now train_X_padded contains the tokenized and padded representations of the text data\n",
    "# tokenizer.fit_on_texts(test_X)\n",
    "\n",
    "# # Convert text sequences to integer sequences\n",
    "# test_X_sequences = tokenizer.texts_to_sequences(test_X)\n",
    "\n",
    "# # Pad sequences to ensure consistent length\n",
    "# test_X_padded = pad_sequences(test_X_sequences, maxlen=max_length, padding='post', truncating='post')\n"
   ]
  },
  {
   "cell_type": "code",
   "execution_count": 50,
   "id": "8d9989d2",
   "metadata": {
    "execution": {
     "iopub.execute_input": "2024-03-14T17:47:43.355322Z",
     "iopub.status.busy": "2024-03-14T17:47:43.354435Z",
     "iopub.status.idle": "2024-03-14T17:47:43.365173Z",
     "shell.execute_reply": "2024-03-14T17:47:43.364202Z"
    },
    "papermill": {
     "duration": 1.266725,
     "end_time": "2024-03-14T17:47:43.367435",
     "exception": false,
     "start_time": "2024-03-14T17:47:42.100710",
     "status": "completed"
    },
    "tags": []
   },
   "outputs": [
    {
     "data": {
      "text/html": [
       "<div>\n",
       "<style scoped>\n",
       "    .dataframe tbody tr th:only-of-type {\n",
       "        vertical-align: middle;\n",
       "    }\n",
       "\n",
       "    .dataframe tbody tr th {\n",
       "        vertical-align: top;\n",
       "    }\n",
       "\n",
       "    .dataframe thead th {\n",
       "        text-align: right;\n",
       "    }\n",
       "</style>\n",
       "<table border=\"1\" class=\"dataframe\">\n",
       "  <thead>\n",
       "    <tr style=\"text-align: right;\">\n",
       "      <th></th>\n",
       "      <th>id</th>\n",
       "      <th>target</th>\n",
       "    </tr>\n",
       "  </thead>\n",
       "  <tbody>\n",
       "    <tr>\n",
       "      <th>0</th>\n",
       "      <td>0</td>\n",
       "      <td>1</td>\n",
       "    </tr>\n",
       "    <tr>\n",
       "      <th>1</th>\n",
       "      <td>2</td>\n",
       "      <td>1</td>\n",
       "    </tr>\n",
       "    <tr>\n",
       "      <th>2</th>\n",
       "      <td>3</td>\n",
       "      <td>1</td>\n",
       "    </tr>\n",
       "    <tr>\n",
       "      <th>3</th>\n",
       "      <td>9</td>\n",
       "      <td>1</td>\n",
       "    </tr>\n",
       "    <tr>\n",
       "      <th>4</th>\n",
       "      <td>11</td>\n",
       "      <td>1</td>\n",
       "    </tr>\n",
       "    <tr>\n",
       "      <th>...</th>\n",
       "      <td>...</td>\n",
       "      <td>...</td>\n",
       "    </tr>\n",
       "    <tr>\n",
       "      <th>3258</th>\n",
       "      <td>10861</td>\n",
       "      <td>1</td>\n",
       "    </tr>\n",
       "    <tr>\n",
       "      <th>3259</th>\n",
       "      <td>10865</td>\n",
       "      <td>1</td>\n",
       "    </tr>\n",
       "    <tr>\n",
       "      <th>3260</th>\n",
       "      <td>10868</td>\n",
       "      <td>1</td>\n",
       "    </tr>\n",
       "    <tr>\n",
       "      <th>3261</th>\n",
       "      <td>10874</td>\n",
       "      <td>1</td>\n",
       "    </tr>\n",
       "    <tr>\n",
       "      <th>3262</th>\n",
       "      <td>10875</td>\n",
       "      <td>1</td>\n",
       "    </tr>\n",
       "  </tbody>\n",
       "</table>\n",
       "<p>3263 rows × 2 columns</p>\n",
       "</div>"
      ],
      "text/plain": [
       "         id  target\n",
       "0         0       1\n",
       "1         2       1\n",
       "2         3       1\n",
       "3         9       1\n",
       "4        11       1\n",
       "...     ...     ...\n",
       "3258  10861       1\n",
       "3259  10865       1\n",
       "3260  10868       1\n",
       "3261  10874       1\n",
       "3262  10875       1\n",
       "\n",
       "[3263 rows x 2 columns]"
      ]
     },
     "execution_count": 50,
     "metadata": {},
     "output_type": "execute_result"
    }
   ],
   "source": [
    "sample_submission"
   ]
  }
 ],
 "metadata": {
  "kaggle": {
   "accelerator": "gpu",
   "dataSources": [
    {
     "databundleVersionId": 869809,
     "sourceId": 17777,
     "sourceType": "competition"
    }
   ],
   "dockerImageVersionId": 30666,
   "isGpuEnabled": true,
   "isInternetEnabled": true,
   "language": "python",
   "sourceType": "notebook"
  },
  "kernelspec": {
   "display_name": "Python 3",
   "language": "python",
   "name": "python3"
  },
  "language_info": {
   "codemirror_mode": {
    "name": "ipython",
    "version": 3
   },
   "file_extension": ".py",
   "mimetype": "text/x-python",
   "name": "python",
   "nbconvert_exporter": "python",
   "pygments_lexer": "ipython3",
   "version": "3.10.13"
  },
  "papermill": {
   "default_parameters": {},
   "duration": 1854.298238,
   "end_time": "2024-03-14T17:47:47.539456",
   "environment_variables": {},
   "exception": null,
   "input_path": "__notebook__.ipynb",
   "output_path": "__notebook__.ipynb",
   "parameters": {},
   "start_time": "2024-03-14T17:16:53.241218",
   "version": "2.5.0"
  }
 },
 "nbformat": 4,
 "nbformat_minor": 5
}
